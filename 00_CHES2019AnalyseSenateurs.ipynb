{
 "cells": [
  {
   "cell_type": "markdown",
   "id": "c0b5478f",
   "metadata": {},
   "source": [
    "# Vérification de ce que modélise l'axe MCMC\n",
    "\n",
    "https://www.chesdata.eu/2019-chapel-hill-expert-survey\n",
    "\n",
    "https://static1.squarespace.com/static/5975c9bfdb29d6a05c65209b/t/5fa04ec05d3c8218b7c91450/1604341440585/2019_CHES_codebook.pdf\n",
    "\n",
    "Ce code effectue une analyse de corrélation de Pearson entre différentes catégories de données et une variable appelée \"MCMC\". Les données sont nettoyées en supprimant les valeurs manquantes et infinies. Ensuite, la corrélation de Pearson est calculée et triée du plus faible au plus élevé. Un graphique en barres horizontales est créé pour représenter les valeurs de corrélation. Les niveaux de confiance sont marqués sur le graphique en fonction des valeurs de p (p-value) obtenues à partir d'un test de corrélation. Finalement, le graphique est affiché pour visualiser les relations de corrélation entre les catégories et la variable \"MCMC\"."
   ]
  },
  {
   "cell_type": "code",
   "execution_count": 38,
   "id": "13e3c71f",
   "metadata": {},
   "outputs": [],
   "source": [
    "import matplotlib.pyplot as plt\n",
    "import pandas as pd\n",
    "import numpy as np\n",
    "from scipy.stats import pearsonr\n",
    "import plotly.express as px"
   ]
  },
  {
   "cell_type": "code",
   "execution_count": 39,
   "id": "badf54c8",
   "metadata": {},
   "outputs": [],
   "source": [
    "# Charger les données du fichier CHES2019V3.csv dans un DataFrame appelé df_CHES2019V3\n",
    "df_CHES2019V3 = pd.read_csv('data\\\\CHES2019V3.csv')\n",
    "\n",
    "# Charger les données du fichier analyseMCMCvsACP.csv dans un DataFrame appelé df_ACPvsMCMC\n",
    "df_ACPvsMCMC = pd.read_csv('data\\\\analyseMCMCvsACP_senateurs.csv')"
   ]
  },
  {
   "cell_type": "code",
   "execution_count": 40,
   "id": "2285a7c6",
   "metadata": {},
   "outputs": [
    {
     "data": {
      "text/html": [
       "<div>\n",
       "<style scoped>\n",
       "    .dataframe tbody tr th:only-of-type {\n",
       "        vertical-align: middle;\n",
       "    }\n",
       "\n",
       "    .dataframe tbody tr th {\n",
       "        vertical-align: top;\n",
       "    }\n",
       "\n",
       "    .dataframe thead th {\n",
       "        text-align: right;\n",
       "    }\n",
       "</style>\n",
       "<table border=\"1\" class=\"dataframe\">\n",
       "  <thead>\n",
       "    <tr style=\"text-align: right;\">\n",
       "      <th></th>\n",
       "      <th>country</th>\n",
       "      <th>eastwest</th>\n",
       "      <th>party</th>\n",
       "      <th>party_id</th>\n",
       "      <th>eu_position</th>\n",
       "      <th>eu_position_sd</th>\n",
       "      <th>eu_salience</th>\n",
       "      <th>eu_dissent</th>\n",
       "      <th>eu_blur</th>\n",
       "      <th>eu_cohesion</th>\n",
       "      <th>...</th>\n",
       "      <th>regions</th>\n",
       "      <th>russian_interference</th>\n",
       "      <th>anti_islam_rhetoric</th>\n",
       "      <th>people_vs_elite</th>\n",
       "      <th>antielite_salience</th>\n",
       "      <th>corrupt_salience</th>\n",
       "      <th>members_vs_leadership</th>\n",
       "      <th>eu_econ_require</th>\n",
       "      <th>eu_political_require</th>\n",
       "      <th>eu_googov_require</th>\n",
       "    </tr>\n",
       "  </thead>\n",
       "  <tbody>\n",
       "    <tr>\n",
       "      <th>0</th>\n",
       "      <td>1</td>\n",
       "      <td>1.0</td>\n",
       "      <td>PS</td>\n",
       "      <td>102</td>\n",
       "      <td>6.083334</td>\n",
       "      <td>0.288675</td>\n",
       "      <td>4.272728</td>\n",
       "      <td>2.750000</td>\n",
       "      <td>2.166667</td>\n",
       "      <td>6.250</td>\n",
       "      <td>...</td>\n",
       "      <td>6.000000</td>\n",
       "      <td>0.111111</td>\n",
       "      <td>2.111111</td>\n",
       "      <td>3.363636</td>\n",
       "      <td>2.181818</td>\n",
       "      <td>1.909091</td>\n",
       "      <td>7.500000</td>\n",
       "      <td>NaN</td>\n",
       "      <td>NaN</td>\n",
       "      <td>NaN</td>\n",
       "    </tr>\n",
       "    <tr>\n",
       "      <th>1</th>\n",
       "      <td>1</td>\n",
       "      <td>1.0</td>\n",
       "      <td>SP/SPA</td>\n",
       "      <td>103</td>\n",
       "      <td>6.000000</td>\n",
       "      <td>0.426401</td>\n",
       "      <td>4.181818</td>\n",
       "      <td>2.500000</td>\n",
       "      <td>1.714286</td>\n",
       "      <td>6.000</td>\n",
       "      <td>...</td>\n",
       "      <td>5.333334</td>\n",
       "      <td>0.111111</td>\n",
       "      <td>2.222222</td>\n",
       "      <td>3.545454</td>\n",
       "      <td>2.090909</td>\n",
       "      <td>1.636364</td>\n",
       "      <td>6.818182</td>\n",
       "      <td>NaN</td>\n",
       "      <td>NaN</td>\n",
       "      <td>NaN</td>\n",
       "    </tr>\n",
       "    <tr>\n",
       "      <th>2</th>\n",
       "      <td>1</td>\n",
       "      <td>1.0</td>\n",
       "      <td>ECOLO</td>\n",
       "      <td>104</td>\n",
       "      <td>6.583334</td>\n",
       "      <td>0.514929</td>\n",
       "      <td>4.818182</td>\n",
       "      <td>2.500000</td>\n",
       "      <td>1.428572</td>\n",
       "      <td>6.000</td>\n",
       "      <td>...</td>\n",
       "      <td>6.166666</td>\n",
       "      <td>0.111111</td>\n",
       "      <td>2.888889</td>\n",
       "      <td>5.636363</td>\n",
       "      <td>2.454546</td>\n",
       "      <td>2.363636</td>\n",
       "      <td>3.909091</td>\n",
       "      <td>NaN</td>\n",
       "      <td>NaN</td>\n",
       "      <td>NaN</td>\n",
       "    </tr>\n",
       "    <tr>\n",
       "      <th>3</th>\n",
       "      <td>1</td>\n",
       "      <td>1.0</td>\n",
       "      <td>AGALEV</td>\n",
       "      <td>105</td>\n",
       "      <td>6.583334</td>\n",
       "      <td>0.514929</td>\n",
       "      <td>4.818182</td>\n",
       "      <td>2.500000</td>\n",
       "      <td>1.285714</td>\n",
       "      <td>5.875</td>\n",
       "      <td>...</td>\n",
       "      <td>6.083334</td>\n",
       "      <td>0.111111</td>\n",
       "      <td>2.777778</td>\n",
       "      <td>5.636363</td>\n",
       "      <td>2.363636</td>\n",
       "      <td>2.000000</td>\n",
       "      <td>4.000000</td>\n",
       "      <td>NaN</td>\n",
       "      <td>NaN</td>\n",
       "      <td>NaN</td>\n",
       "    </tr>\n",
       "    <tr>\n",
       "      <th>4</th>\n",
       "      <td>1</td>\n",
       "      <td>1.0</td>\n",
       "      <td>PRL/MR</td>\n",
       "      <td>106</td>\n",
       "      <td>6.500000</td>\n",
       "      <td>0.674200</td>\n",
       "      <td>5.090909</td>\n",
       "      <td>2.000000</td>\n",
       "      <td>1.714286</td>\n",
       "      <td>5.500</td>\n",
       "      <td>...</td>\n",
       "      <td>6.416666</td>\n",
       "      <td>0.111111</td>\n",
       "      <td>2.333333</td>\n",
       "      <td>4.636363</td>\n",
       "      <td>1.727273</td>\n",
       "      <td>1.636364</td>\n",
       "      <td>7.000000</td>\n",
       "      <td>NaN</td>\n",
       "      <td>NaN</td>\n",
       "      <td>NaN</td>\n",
       "    </tr>\n",
       "    <tr>\n",
       "      <th>...</th>\n",
       "      <td>...</td>\n",
       "      <td>...</td>\n",
       "      <td>...</td>\n",
       "      <td>...</td>\n",
       "      <td>...</td>\n",
       "      <td>...</td>\n",
       "      <td>...</td>\n",
       "      <td>...</td>\n",
       "      <td>...</td>\n",
       "      <td>...</td>\n",
       "      <td>...</td>\n",
       "      <td>...</td>\n",
       "      <td>...</td>\n",
       "      <td>...</td>\n",
       "      <td>...</td>\n",
       "      <td>...</td>\n",
       "      <td>...</td>\n",
       "      <td>...</td>\n",
       "      <td>...</td>\n",
       "      <td>...</td>\n",
       "      <td>...</td>\n",
       "    </tr>\n",
       "    <tr>\n",
       "      <th>272</th>\n",
       "      <td>45</td>\n",
       "      <td>NaN</td>\n",
       "      <td>M</td>\n",
       "      <td>4504</td>\n",
       "      <td>1.200000</td>\n",
       "      <td>0.447214</td>\n",
       "      <td>5.600000</td>\n",
       "      <td>2.000000</td>\n",
       "      <td>0.500000</td>\n",
       "      <td>NaN</td>\n",
       "      <td>...</td>\n",
       "      <td>4.000000</td>\n",
       "      <td>0.800000</td>\n",
       "      <td>2.000000</td>\n",
       "      <td>3.200000</td>\n",
       "      <td>4.400000</td>\n",
       "      <td>1.500000</td>\n",
       "      <td>9.400000</td>\n",
       "      <td>NaN</td>\n",
       "      <td>NaN</td>\n",
       "      <td>NaN</td>\n",
       "    </tr>\n",
       "    <tr>\n",
       "      <th>273</th>\n",
       "      <td>45</td>\n",
       "      <td>NaN</td>\n",
       "      <td>Sam</td>\n",
       "      <td>4505</td>\n",
       "      <td>6.400000</td>\n",
       "      <td>0.547723</td>\n",
       "      <td>6.800000</td>\n",
       "      <td>2.333333</td>\n",
       "      <td>4.000000</td>\n",
       "      <td>NaN</td>\n",
       "      <td>...</td>\n",
       "      <td>6.000000</td>\n",
       "      <td>0.000000</td>\n",
       "      <td>0.000000</td>\n",
       "      <td>5.000000</td>\n",
       "      <td>1.400000</td>\n",
       "      <td>5.800000</td>\n",
       "      <td>6.400000</td>\n",
       "      <td>NaN</td>\n",
       "      <td>NaN</td>\n",
       "      <td>NaN</td>\n",
       "    </tr>\n",
       "    <tr>\n",
       "      <th>274</th>\n",
       "      <td>45</td>\n",
       "      <td>NaN</td>\n",
       "      <td>Pi</td>\n",
       "      <td>4506</td>\n",
       "      <td>4.800000</td>\n",
       "      <td>0.447214</td>\n",
       "      <td>4.600000</td>\n",
       "      <td>3.333333</td>\n",
       "      <td>4.500000</td>\n",
       "      <td>NaN</td>\n",
       "      <td>...</td>\n",
       "      <td>6.000000</td>\n",
       "      <td>0.000000</td>\n",
       "      <td>0.000000</td>\n",
       "      <td>5.800000</td>\n",
       "      <td>6.200000</td>\n",
       "      <td>8.400000</td>\n",
       "      <td>2.800000</td>\n",
       "      <td>NaN</td>\n",
       "      <td>NaN</td>\n",
       "      <td>NaN</td>\n",
       "    </tr>\n",
       "    <tr>\n",
       "      <th>275</th>\n",
       "      <td>45</td>\n",
       "      <td>NaN</td>\n",
       "      <td>V</td>\n",
       "      <td>4507</td>\n",
       "      <td>6.600000</td>\n",
       "      <td>0.547723</td>\n",
       "      <td>8.000000</td>\n",
       "      <td>2.000000</td>\n",
       "      <td>2.500000</td>\n",
       "      <td>NaN</td>\n",
       "      <td>...</td>\n",
       "      <td>6.000000</td>\n",
       "      <td>0.000000</td>\n",
       "      <td>0.000000</td>\n",
       "      <td>3.600000</td>\n",
       "      <td>0.200000</td>\n",
       "      <td>4.600000</td>\n",
       "      <td>7.400000</td>\n",
       "      <td>NaN</td>\n",
       "      <td>NaN</td>\n",
       "      <td>NaN</td>\n",
       "    </tr>\n",
       "    <tr>\n",
       "      <th>276</th>\n",
       "      <td>45</td>\n",
       "      <td>NaN</td>\n",
       "      <td>FIF</td>\n",
       "      <td>4508</td>\n",
       "      <td>1.750000</td>\n",
       "      <td>1.500000</td>\n",
       "      <td>1.250000</td>\n",
       "      <td>3.666667</td>\n",
       "      <td>3.000000</td>\n",
       "      <td>NaN</td>\n",
       "      <td>...</td>\n",
       "      <td>5.000000</td>\n",
       "      <td>0.000000</td>\n",
       "      <td>1.800000</td>\n",
       "      <td>5.250000</td>\n",
       "      <td>6.000000</td>\n",
       "      <td>3.600000</td>\n",
       "      <td>9.000000</td>\n",
       "      <td>NaN</td>\n",
       "      <td>NaN</td>\n",
       "      <td>NaN</td>\n",
       "    </tr>\n",
       "  </tbody>\n",
       "</table>\n",
       "<p>277 rows × 55 columns</p>\n",
       "</div>"
      ],
      "text/plain": [
       "     country  eastwest   party  party_id  eu_position  eu_position_sd  \\\n",
       "0          1       1.0      PS       102     6.083334        0.288675   \n",
       "1          1       1.0  SP/SPA       103     6.000000        0.426401   \n",
       "2          1       1.0   ECOLO       104     6.583334        0.514929   \n",
       "3          1       1.0  AGALEV       105     6.583334        0.514929   \n",
       "4          1       1.0  PRL/MR       106     6.500000        0.674200   \n",
       "..       ...       ...     ...       ...          ...             ...   \n",
       "272       45       NaN       M      4504     1.200000        0.447214   \n",
       "273       45       NaN     Sam      4505     6.400000        0.547723   \n",
       "274       45       NaN      Pi      4506     4.800000        0.447214   \n",
       "275       45       NaN       V      4507     6.600000        0.547723   \n",
       "276       45       NaN     FIF      4508     1.750000        1.500000   \n",
       "\n",
       "     eu_salience  eu_dissent   eu_blur  eu_cohesion  ...   regions  \\\n",
       "0       4.272728    2.750000  2.166667        6.250  ...  6.000000   \n",
       "1       4.181818    2.500000  1.714286        6.000  ...  5.333334   \n",
       "2       4.818182    2.500000  1.428572        6.000  ...  6.166666   \n",
       "3       4.818182    2.500000  1.285714        5.875  ...  6.083334   \n",
       "4       5.090909    2.000000  1.714286        5.500  ...  6.416666   \n",
       "..           ...         ...       ...          ...  ...       ...   \n",
       "272     5.600000    2.000000  0.500000          NaN  ...  4.000000   \n",
       "273     6.800000    2.333333  4.000000          NaN  ...  6.000000   \n",
       "274     4.600000    3.333333  4.500000          NaN  ...  6.000000   \n",
       "275     8.000000    2.000000  2.500000          NaN  ...  6.000000   \n",
       "276     1.250000    3.666667  3.000000          NaN  ...  5.000000   \n",
       "\n",
       "     russian_interference  anti_islam_rhetoric  people_vs_elite  \\\n",
       "0                0.111111             2.111111         3.363636   \n",
       "1                0.111111             2.222222         3.545454   \n",
       "2                0.111111             2.888889         5.636363   \n",
       "3                0.111111             2.777778         5.636363   \n",
       "4                0.111111             2.333333         4.636363   \n",
       "..                    ...                  ...              ...   \n",
       "272              0.800000             2.000000         3.200000   \n",
       "273              0.000000             0.000000         5.000000   \n",
       "274              0.000000             0.000000         5.800000   \n",
       "275              0.000000             0.000000         3.600000   \n",
       "276              0.000000             1.800000         5.250000   \n",
       "\n",
       "     antielite_salience  corrupt_salience  members_vs_leadership  \\\n",
       "0              2.181818          1.909091               7.500000   \n",
       "1              2.090909          1.636364               6.818182   \n",
       "2              2.454546          2.363636               3.909091   \n",
       "3              2.363636          2.000000               4.000000   \n",
       "4              1.727273          1.636364               7.000000   \n",
       "..                  ...               ...                    ...   \n",
       "272            4.400000          1.500000               9.400000   \n",
       "273            1.400000          5.800000               6.400000   \n",
       "274            6.200000          8.400000               2.800000   \n",
       "275            0.200000          4.600000               7.400000   \n",
       "276            6.000000          3.600000               9.000000   \n",
       "\n",
       "     eu_econ_require  eu_political_require  eu_googov_require  \n",
       "0                NaN                   NaN                NaN  \n",
       "1                NaN                   NaN                NaN  \n",
       "2                NaN                   NaN                NaN  \n",
       "3                NaN                   NaN                NaN  \n",
       "4                NaN                   NaN                NaN  \n",
       "..               ...                   ...                ...  \n",
       "272              NaN                   NaN                NaN  \n",
       "273              NaN                   NaN                NaN  \n",
       "274              NaN                   NaN                NaN  \n",
       "275              NaN                   NaN                NaN  \n",
       "276              NaN                   NaN                NaN  \n",
       "\n",
       "[277 rows x 55 columns]"
      ]
     },
     "execution_count": 40,
     "metadata": {},
     "output_type": "execute_result"
    }
   ],
   "source": [
    "df_CHES2019V3"
   ]
  },
  {
   "cell_type": "code",
   "execution_count": 41,
   "id": "4248881c",
   "metadata": {},
   "outputs": [
    {
     "data": {
      "text/html": [
       "<div>\n",
       "<style scoped>\n",
       "    .dataframe tbody tr th:only-of-type {\n",
       "        vertical-align: middle;\n",
       "    }\n",
       "\n",
       "    .dataframe tbody tr th {\n",
       "        vertical-align: top;\n",
       "    }\n",
       "\n",
       "    .dataframe thead th {\n",
       "        text-align: right;\n",
       "    }\n",
       "</style>\n",
       "<table border=\"1\" class=\"dataframe\">\n",
       "  <thead>\n",
       "    <tr style=\"text-align: right;\">\n",
       "      <th></th>\n",
       "      <th>MCMC</th>\n",
       "      <th>Position 1</th>\n",
       "      <th>Position 2</th>\n",
       "      <th>Groupe politique</th>\n",
       "    </tr>\n",
       "  </thead>\n",
       "  <tbody>\n",
       "    <tr>\n",
       "      <th>0</th>\n",
       "      <td>-0.016734</td>\n",
       "      <td>1.653898</td>\n",
       "      <td>-0.325824</td>\n",
       "      <td>CRCE</td>\n",
       "    </tr>\n",
       "    <tr>\n",
       "      <th>1</th>\n",
       "      <td>-0.025674</td>\n",
       "      <td>1.653898</td>\n",
       "      <td>-0.325824</td>\n",
       "      <td>CRCE</td>\n",
       "    </tr>\n",
       "    <tr>\n",
       "      <th>2</th>\n",
       "      <td>0.015790</td>\n",
       "      <td>1.569818</td>\n",
       "      <td>-0.465005</td>\n",
       "      <td>GEST</td>\n",
       "    </tr>\n",
       "    <tr>\n",
       "      <th>3</th>\n",
       "      <td>0.019070</td>\n",
       "      <td>-0.360804</td>\n",
       "      <td>1.394170</td>\n",
       "      <td>Les Indépendants</td>\n",
       "    </tr>\n",
       "    <tr>\n",
       "      <th>4</th>\n",
       "      <td>-0.014777</td>\n",
       "      <td>-0.362222</td>\n",
       "      <td>1.333145</td>\n",
       "      <td>Les Indépendants</td>\n",
       "    </tr>\n",
       "    <tr>\n",
       "      <th>5</th>\n",
       "      <td>-0.025007</td>\n",
       "      <td>-0.686164</td>\n",
       "      <td>-0.569135</td>\n",
       "      <td>Les Républicains</td>\n",
       "    </tr>\n",
       "    <tr>\n",
       "      <th>6</th>\n",
       "      <td>0.015921</td>\n",
       "      <td>-0.760330</td>\n",
       "      <td>-0.531635</td>\n",
       "      <td>Les Républicains</td>\n",
       "    </tr>\n",
       "    <tr>\n",
       "      <th>7</th>\n",
       "      <td>0.048348</td>\n",
       "      <td>-0.750813</td>\n",
       "      <td>-0.528098</td>\n",
       "      <td>Les Républicains</td>\n",
       "    </tr>\n",
       "    <tr>\n",
       "      <th>8</th>\n",
       "      <td>0.051046</td>\n",
       "      <td>-0.793763</td>\n",
       "      <td>-0.468855</td>\n",
       "      <td>Les Républicains</td>\n",
       "    </tr>\n",
       "    <tr>\n",
       "      <th>9</th>\n",
       "      <td>0.001803</td>\n",
       "      <td>-0.746174</td>\n",
       "      <td>-0.551696</td>\n",
       "      <td>Les Républicains</td>\n",
       "    </tr>\n",
       "    <tr>\n",
       "      <th>10</th>\n",
       "      <td>0.042111</td>\n",
       "      <td>-0.763427</td>\n",
       "      <td>-0.531565</td>\n",
       "      <td>Les Républicains</td>\n",
       "    </tr>\n",
       "    <tr>\n",
       "      <th>11</th>\n",
       "      <td>-0.009400</td>\n",
       "      <td>-0.791187</td>\n",
       "      <td>-0.469767</td>\n",
       "      <td>Les Républicains</td>\n",
       "    </tr>\n",
       "    <tr>\n",
       "      <th>12</th>\n",
       "      <td>0.000202</td>\n",
       "      <td>-0.630752</td>\n",
       "      <td>-0.699261</td>\n",
       "      <td>Les Républicains</td>\n",
       "    </tr>\n",
       "    <tr>\n",
       "      <th>13</th>\n",
       "      <td>0.030674</td>\n",
       "      <td>-0.791873</td>\n",
       "      <td>-0.472978</td>\n",
       "      <td>Les Républicains</td>\n",
       "    </tr>\n",
       "    <tr>\n",
       "      <th>14</th>\n",
       "      <td>0.025527</td>\n",
       "      <td>-0.774373</td>\n",
       "      <td>-0.503314</td>\n",
       "      <td>Les Républicains</td>\n",
       "    </tr>\n",
       "    <tr>\n",
       "      <th>15</th>\n",
       "      <td>0.006555</td>\n",
       "      <td>-0.768150</td>\n",
       "      <td>-0.484733</td>\n",
       "      <td>Les Républicains</td>\n",
       "    </tr>\n",
       "    <tr>\n",
       "      <th>16</th>\n",
       "      <td>-0.000594</td>\n",
       "      <td>-0.733635</td>\n",
       "      <td>-0.599840</td>\n",
       "      <td>Les Républicains</td>\n",
       "    </tr>\n",
       "    <tr>\n",
       "      <th>17</th>\n",
       "      <td>0.013716</td>\n",
       "      <td>-0.766513</td>\n",
       "      <td>-0.534929</td>\n",
       "      <td>Les Républicains</td>\n",
       "    </tr>\n",
       "    <tr>\n",
       "      <th>18</th>\n",
       "      <td>0.009717</td>\n",
       "      <td>0.486188</td>\n",
       "      <td>-0.068473</td>\n",
       "      <td>NI</td>\n",
       "    </tr>\n",
       "    <tr>\n",
       "      <th>19</th>\n",
       "      <td>0.008343</td>\n",
       "      <td>-0.137950</td>\n",
       "      <td>3.056708</td>\n",
       "      <td>RDPI</td>\n",
       "    </tr>\n",
       "    <tr>\n",
       "      <th>20</th>\n",
       "      <td>0.003317</td>\n",
       "      <td>-0.136549</td>\n",
       "      <td>3.050291</td>\n",
       "      <td>RDPI</td>\n",
       "    </tr>\n",
       "    <tr>\n",
       "      <th>21</th>\n",
       "      <td>-0.004468</td>\n",
       "      <td>-0.148943</td>\n",
       "      <td>3.067575</td>\n",
       "      <td>RDPI</td>\n",
       "    </tr>\n",
       "    <tr>\n",
       "      <th>22</th>\n",
       "      <td>-0.001965</td>\n",
       "      <td>0.434259</td>\n",
       "      <td>1.742122</td>\n",
       "      <td>RDSE</td>\n",
       "    </tr>\n",
       "    <tr>\n",
       "      <th>23</th>\n",
       "      <td>0.000125</td>\n",
       "      <td>0.232261</td>\n",
       "      <td>1.884412</td>\n",
       "      <td>RDSE</td>\n",
       "    </tr>\n",
       "    <tr>\n",
       "      <th>24</th>\n",
       "      <td>-0.000070</td>\n",
       "      <td>1.617742</td>\n",
       "      <td>-0.343760</td>\n",
       "      <td>SER</td>\n",
       "    </tr>\n",
       "    <tr>\n",
       "      <th>25</th>\n",
       "      <td>-0.032683</td>\n",
       "      <td>1.621513</td>\n",
       "      <td>-0.321455</td>\n",
       "      <td>SER</td>\n",
       "    </tr>\n",
       "    <tr>\n",
       "      <th>26</th>\n",
       "      <td>0.002090</td>\n",
       "      <td>1.623456</td>\n",
       "      <td>-0.325362</td>\n",
       "      <td>SER</td>\n",
       "    </tr>\n",
       "    <tr>\n",
       "      <th>27</th>\n",
       "      <td>-0.007127</td>\n",
       "      <td>1.640269</td>\n",
       "      <td>-0.379450</td>\n",
       "      <td>SER</td>\n",
       "    </tr>\n",
       "    <tr>\n",
       "      <th>28</th>\n",
       "      <td>-0.032633</td>\n",
       "      <td>1.609232</td>\n",
       "      <td>-0.289269</td>\n",
       "      <td>SER</td>\n",
       "    </tr>\n",
       "    <tr>\n",
       "      <th>29</th>\n",
       "      <td>-0.034418</td>\n",
       "      <td>1.609232</td>\n",
       "      <td>-0.289269</td>\n",
       "      <td>SER</td>\n",
       "    </tr>\n",
       "    <tr>\n",
       "      <th>30</th>\n",
       "      <td>0.029391</td>\n",
       "      <td>-0.499629</td>\n",
       "      <td>-0.639081</td>\n",
       "      <td>UC</td>\n",
       "    </tr>\n",
       "    <tr>\n",
       "      <th>31</th>\n",
       "      <td>0.050088</td>\n",
       "      <td>-0.687493</td>\n",
       "      <td>-0.199015</td>\n",
       "      <td>UC</td>\n",
       "    </tr>\n",
       "    <tr>\n",
       "      <th>32</th>\n",
       "      <td>0.048433</td>\n",
       "      <td>-0.705081</td>\n",
       "      <td>-0.170708</td>\n",
       "      <td>UC</td>\n",
       "    </tr>\n",
       "    <tr>\n",
       "      <th>33</th>\n",
       "      <td>0.036141</td>\n",
       "      <td>-0.685773</td>\n",
       "      <td>-0.186979</td>\n",
       "      <td>UC</td>\n",
       "    </tr>\n",
       "    <tr>\n",
       "      <th>34</th>\n",
       "      <td>-0.023515</td>\n",
       "      <td>-0.581577</td>\n",
       "      <td>-0.338252</td>\n",
       "      <td>UC</td>\n",
       "    </tr>\n",
       "    <tr>\n",
       "      <th>35</th>\n",
       "      <td>0.020144</td>\n",
       "      <td>-0.613724</td>\n",
       "      <td>-0.239624</td>\n",
       "      <td>UC</td>\n",
       "    </tr>\n",
       "  </tbody>\n",
       "</table>\n",
       "</div>"
      ],
      "text/plain": [
       "        MCMC  Position 1  Position 2  Groupe politique\n",
       "0  -0.016734    1.653898   -0.325824              CRCE\n",
       "1  -0.025674    1.653898   -0.325824              CRCE\n",
       "2   0.015790    1.569818   -0.465005              GEST\n",
       "3   0.019070   -0.360804    1.394170  Les Indépendants\n",
       "4  -0.014777   -0.362222    1.333145  Les Indépendants\n",
       "5  -0.025007   -0.686164   -0.569135  Les Républicains\n",
       "6   0.015921   -0.760330   -0.531635  Les Républicains\n",
       "7   0.048348   -0.750813   -0.528098  Les Républicains\n",
       "8   0.051046   -0.793763   -0.468855  Les Républicains\n",
       "9   0.001803   -0.746174   -0.551696  Les Républicains\n",
       "10  0.042111   -0.763427   -0.531565  Les Républicains\n",
       "11 -0.009400   -0.791187   -0.469767  Les Républicains\n",
       "12  0.000202   -0.630752   -0.699261  Les Républicains\n",
       "13  0.030674   -0.791873   -0.472978  Les Républicains\n",
       "14  0.025527   -0.774373   -0.503314  Les Républicains\n",
       "15  0.006555   -0.768150   -0.484733  Les Républicains\n",
       "16 -0.000594   -0.733635   -0.599840  Les Républicains\n",
       "17  0.013716   -0.766513   -0.534929  Les Républicains\n",
       "18  0.009717    0.486188   -0.068473                NI\n",
       "19  0.008343   -0.137950    3.056708              RDPI\n",
       "20  0.003317   -0.136549    3.050291              RDPI\n",
       "21 -0.004468   -0.148943    3.067575              RDPI\n",
       "22 -0.001965    0.434259    1.742122              RDSE\n",
       "23  0.000125    0.232261    1.884412              RDSE\n",
       "24 -0.000070    1.617742   -0.343760               SER\n",
       "25 -0.032683    1.621513   -0.321455               SER\n",
       "26  0.002090    1.623456   -0.325362               SER\n",
       "27 -0.007127    1.640269   -0.379450               SER\n",
       "28 -0.032633    1.609232   -0.289269               SER\n",
       "29 -0.034418    1.609232   -0.289269               SER\n",
       "30  0.029391   -0.499629   -0.639081                UC\n",
       "31  0.050088   -0.687493   -0.199015                UC\n",
       "32  0.048433   -0.705081   -0.170708                UC\n",
       "33  0.036141   -0.685773   -0.186979                UC\n",
       "34 -0.023515   -0.581577   -0.338252                UC\n",
       "35  0.020144   -0.613724   -0.239624                UC"
      ]
     },
     "execution_count": 41,
     "metadata": {},
     "output_type": "execute_result"
    }
   ],
   "source": [
    "df_ACPvsMCMC = df_ACPvsMCMC.drop(\"Unnamed: 0\", axis=1)\n",
    "\n",
    "df_ACPvsMCMC"
   ]
  },
  {
   "cell_type": "code",
   "execution_count": 42,
   "id": "c05dc44a",
   "metadata": {},
   "outputs": [
    {
     "data": {
      "text/html": [
       "<div>\n",
       "<style scoped>\n",
       "    .dataframe tbody tr th:only-of-type {\n",
       "        vertical-align: middle;\n",
       "    }\n",
       "\n",
       "    .dataframe tbody tr th {\n",
       "        vertical-align: top;\n",
       "    }\n",
       "\n",
       "    .dataframe thead th {\n",
       "        text-align: right;\n",
       "    }\n",
       "</style>\n",
       "<table border=\"1\" class=\"dataframe\">\n",
       "  <thead>\n",
       "    <tr style=\"text-align: right;\">\n",
       "      <th></th>\n",
       "      <th>MCMC</th>\n",
       "      <th>Position 1</th>\n",
       "      <th>Position 2</th>\n",
       "    </tr>\n",
       "    <tr>\n",
       "      <th>Groupe politique</th>\n",
       "      <th></th>\n",
       "      <th></th>\n",
       "      <th></th>\n",
       "    </tr>\n",
       "  </thead>\n",
       "  <tbody>\n",
       "    <tr>\n",
       "      <th>CRCE</th>\n",
       "      <td>-0.021204</td>\n",
       "      <td>1.653898</td>\n",
       "      <td>-0.325824</td>\n",
       "    </tr>\n",
       "    <tr>\n",
       "      <th>GEST</th>\n",
       "      <td>0.015790</td>\n",
       "      <td>1.569818</td>\n",
       "      <td>-0.465005</td>\n",
       "    </tr>\n",
       "    <tr>\n",
       "      <th>Les Indépendants</th>\n",
       "      <td>0.002146</td>\n",
       "      <td>-0.361513</td>\n",
       "      <td>1.363658</td>\n",
       "    </tr>\n",
       "    <tr>\n",
       "      <th>Les Républicains</th>\n",
       "      <td>0.015454</td>\n",
       "      <td>-0.750550</td>\n",
       "      <td>-0.534293</td>\n",
       "    </tr>\n",
       "    <tr>\n",
       "      <th>NI</th>\n",
       "      <td>0.009717</td>\n",
       "      <td>0.486188</td>\n",
       "      <td>-0.068473</td>\n",
       "    </tr>\n",
       "    <tr>\n",
       "      <th>RDPI</th>\n",
       "      <td>0.002397</td>\n",
       "      <td>-0.141147</td>\n",
       "      <td>3.058191</td>\n",
       "    </tr>\n",
       "    <tr>\n",
       "      <th>RDSE</th>\n",
       "      <td>-0.000920</td>\n",
       "      <td>0.333260</td>\n",
       "      <td>1.813267</td>\n",
       "    </tr>\n",
       "    <tr>\n",
       "      <th>SER</th>\n",
       "      <td>-0.017474</td>\n",
       "      <td>1.620241</td>\n",
       "      <td>-0.324761</td>\n",
       "    </tr>\n",
       "    <tr>\n",
       "      <th>UC</th>\n",
       "      <td>0.026781</td>\n",
       "      <td>-0.628880</td>\n",
       "      <td>-0.295610</td>\n",
       "    </tr>\n",
       "  </tbody>\n",
       "</table>\n",
       "</div>"
      ],
      "text/plain": [
       "                      MCMC  Position 1  Position 2\n",
       "Groupe politique                                  \n",
       "CRCE             -0.021204    1.653898   -0.325824\n",
       "GEST              0.015790    1.569818   -0.465005\n",
       "Les Indépendants  0.002146   -0.361513    1.363658\n",
       "Les Républicains  0.015454   -0.750550   -0.534293\n",
       "NI                0.009717    0.486188   -0.068473\n",
       "RDPI              0.002397   -0.141147    3.058191\n",
       "RDSE             -0.000920    0.333260    1.813267\n",
       "SER              -0.017474    1.620241   -0.324761\n",
       "UC                0.026781   -0.628880   -0.295610"
      ]
     },
     "execution_count": 42,
     "metadata": {},
     "output_type": "execute_result"
    }
   ],
   "source": [
    "# Calculer la moyenne des colonnes 'MCMC', 'Position 1' et 'Position 2' du DataFrame df_ACPvsMCMC, groupées par la colonne 'Groupe politique (abrégé)'\n",
    "df_ACPvsMCMC_mean = df_ACPvsMCMC.groupby('Groupe politique')[['MCMC', 'Position 1', 'Position 2']].mean()\n",
    "df_ACPvsMCMC_mean"
   ]
  },
  {
   "cell_type": "code",
   "execution_count": 43,
   "id": "32457cce",
   "metadata": {},
   "outputs": [
    {
     "data": {
      "application/vnd.plotly.v1+json": {
       "config": {
        "plotlyServerURL": "https://plot.ly"
       },
       "data": [
        {
         "hovertemplate": "Groupe politique=CRCE<br>MCMC=%{x}<br>Position 1=%{y}<br>Position 2=%{z}<extra></extra>",
         "legendgroup": "CRCE",
         "marker": {
          "color": "#636efa",
          "symbol": "circle"
         },
         "mode": "markers",
         "name": "CRCE",
         "scene": "scene",
         "showlegend": true,
         "type": "scatter3d",
         "x": [
          -0.021204237415476952
         ],
         "y": [
          1.6538979900231954
         ],
         "z": [
          -0.3258237582255022
         ]
        },
        {
         "hovertemplate": "Groupe politique=GEST<br>MCMC=%{x}<br>Position 1=%{y}<br>Position 2=%{z}<extra></extra>",
         "legendgroup": "GEST",
         "marker": {
          "color": "#EF553B",
          "symbol": "circle"
         },
         "mode": "markers",
         "name": "GEST",
         "scene": "scene",
         "showlegend": true,
         "type": "scatter3d",
         "x": [
          0.0157903556116604
         ],
         "y": [
          1.5698182608136104
         ],
         "z": [
          -0.4650047505106227
         ]
        },
        {
         "hovertemplate": "Groupe politique=Les Indépendants<br>MCMC=%{x}<br>Position 1=%{y}<br>Position 2=%{z}<extra></extra>",
         "legendgroup": "Les Indépendants",
         "marker": {
          "color": "#00cc96",
          "symbol": "circle"
         },
         "mode": "markers",
         "name": "Les Indépendants",
         "scene": "scene",
         "showlegend": true,
         "type": "scatter3d",
         "x": [
          0.00214628167520285
         ],
         "y": [
          -0.3615127143371917
         ],
         "z": [
          1.3636576375881595
         ]
        },
        {
         "hovertemplate": "Groupe politique=Les Républicains<br>MCMC=%{x}<br>Position 1=%{y}<br>Position 2=%{z}<extra></extra>",
         "legendgroup": "Les Républicains",
         "marker": {
          "color": "#ab63fa",
          "symbol": "circle"
         },
         "mode": "markers",
         "name": "Les Républicains",
         "scene": "scene",
         "showlegend": true,
         "type": "scatter3d",
         "x": [
          0.015454127697821054
         ],
         "y": [
          -0.7505501191009009
         ],
         "z": [
          -0.534292729757954
         ]
        },
        {
         "hovertemplate": "Groupe politique=NI<br>MCMC=%{x}<br>Position 1=%{y}<br>Position 2=%{z}<extra></extra>",
         "legendgroup": "NI",
         "marker": {
          "color": "#FFA15A",
          "symbol": "circle"
         },
         "mode": "markers",
         "name": "NI",
         "scene": "scene",
         "showlegend": true,
         "type": "scatter3d",
         "x": [
          0.0097170338661252
         ],
         "y": [
          0.4861881729742252
         ],
         "z": [
          -0.0684728043892241
         ]
        },
        {
         "hovertemplate": "Groupe politique=RDPI<br>MCMC=%{x}<br>Position 1=%{y}<br>Position 2=%{z}<extra></extra>",
         "legendgroup": "RDPI",
         "marker": {
          "color": "#19d3f3",
          "symbol": "circle"
         },
         "mode": "markers",
         "name": "RDPI",
         "scene": "scene",
         "showlegend": true,
         "type": "scatter3d",
         "x": [
          0.0023972491813572337
         ],
         "y": [
          -0.14114715784413773
         ],
         "z": [
          3.058191196242738
         ]
        },
        {
         "hovertemplate": "Groupe politique=RDSE<br>MCMC=%{x}<br>Position 1=%{y}<br>Position 2=%{z}<extra></extra>",
         "legendgroup": "RDSE",
         "marker": {
          "color": "#FF6692",
          "symbol": "circle"
         },
         "mode": "markers",
         "name": "RDSE",
         "scene": "scene",
         "showlegend": true,
         "type": "scatter3d",
         "x": [
          -0.0009201369951665499
         ],
         "y": [
          0.33325966710824106
         ],
         "z": [
          1.8132665984125462
         ]
        },
        {
         "hovertemplate": "Groupe politique=SER<br>MCMC=%{x}<br>Position 1=%{y}<br>Position 2=%{z}<extra></extra>",
         "legendgroup": "SER",
         "marker": {
          "color": "#B6E880",
          "symbol": "circle"
         },
         "mode": "markers",
         "name": "SER",
         "scene": "scene",
         "showlegend": true,
         "type": "scatter3d",
         "x": [
          -0.017473509450108154
         ],
         "y": [
          1.6202407850961207
         ],
         "z": [
          -0.32476077009477666
         ]
        },
        {
         "hovertemplate": "Groupe politique=UC<br>MCMC=%{x}<br>Position 1=%{y}<br>Position 2=%{z}<extra></extra>",
         "legendgroup": "UC",
         "marker": {
          "color": "#FF97FF",
          "symbol": "circle"
         },
         "mode": "markers",
         "name": "UC",
         "scene": "scene",
         "showlegend": true,
         "type": "scatter3d",
         "x": [
          0.02678051445163117
         ],
         "y": [
          -0.6288796255656841
         ],
         "z": [
          -0.2956098448852725
         ]
        }
       ],
       "layout": {
        "legend": {
         "title": {
          "text": "Groupe politique"
         },
         "tracegroupgap": 0
        },
        "margin": {
         "t": 60
        },
        "scene": {
         "domain": {
          "x": [
           0,
           1
          ],
          "y": [
           0,
           1
          ]
         },
         "xaxis": {
          "title": {
           "text": "MCMC"
          }
         },
         "yaxis": {
          "title": {
           "text": "Position 1"
          }
         },
         "zaxis": {
          "title": {
           "text": "Position 2"
          }
         }
        },
        "template": {
         "data": {
          "bar": [
           {
            "error_x": {
             "color": "#2a3f5f"
            },
            "error_y": {
             "color": "#2a3f5f"
            },
            "marker": {
             "line": {
              "color": "#E5ECF6",
              "width": 0.5
             },
             "pattern": {
              "fillmode": "overlay",
              "size": 10,
              "solidity": 0.2
             }
            },
            "type": "bar"
           }
          ],
          "barpolar": [
           {
            "marker": {
             "line": {
              "color": "#E5ECF6",
              "width": 0.5
             },
             "pattern": {
              "fillmode": "overlay",
              "size": 10,
              "solidity": 0.2
             }
            },
            "type": "barpolar"
           }
          ],
          "carpet": [
           {
            "aaxis": {
             "endlinecolor": "#2a3f5f",
             "gridcolor": "white",
             "linecolor": "white",
             "minorgridcolor": "white",
             "startlinecolor": "#2a3f5f"
            },
            "baxis": {
             "endlinecolor": "#2a3f5f",
             "gridcolor": "white",
             "linecolor": "white",
             "minorgridcolor": "white",
             "startlinecolor": "#2a3f5f"
            },
            "type": "carpet"
           }
          ],
          "choropleth": [
           {
            "colorbar": {
             "outlinewidth": 0,
             "ticks": ""
            },
            "type": "choropleth"
           }
          ],
          "contour": [
           {
            "colorbar": {
             "outlinewidth": 0,
             "ticks": ""
            },
            "colorscale": [
             [
              0,
              "#0d0887"
             ],
             [
              0.1111111111111111,
              "#46039f"
             ],
             [
              0.2222222222222222,
              "#7201a8"
             ],
             [
              0.3333333333333333,
              "#9c179e"
             ],
             [
              0.4444444444444444,
              "#bd3786"
             ],
             [
              0.5555555555555556,
              "#d8576b"
             ],
             [
              0.6666666666666666,
              "#ed7953"
             ],
             [
              0.7777777777777778,
              "#fb9f3a"
             ],
             [
              0.8888888888888888,
              "#fdca26"
             ],
             [
              1,
              "#f0f921"
             ]
            ],
            "type": "contour"
           }
          ],
          "contourcarpet": [
           {
            "colorbar": {
             "outlinewidth": 0,
             "ticks": ""
            },
            "type": "contourcarpet"
           }
          ],
          "heatmap": [
           {
            "colorbar": {
             "outlinewidth": 0,
             "ticks": ""
            },
            "colorscale": [
             [
              0,
              "#0d0887"
             ],
             [
              0.1111111111111111,
              "#46039f"
             ],
             [
              0.2222222222222222,
              "#7201a8"
             ],
             [
              0.3333333333333333,
              "#9c179e"
             ],
             [
              0.4444444444444444,
              "#bd3786"
             ],
             [
              0.5555555555555556,
              "#d8576b"
             ],
             [
              0.6666666666666666,
              "#ed7953"
             ],
             [
              0.7777777777777778,
              "#fb9f3a"
             ],
             [
              0.8888888888888888,
              "#fdca26"
             ],
             [
              1,
              "#f0f921"
             ]
            ],
            "type": "heatmap"
           }
          ],
          "heatmapgl": [
           {
            "colorbar": {
             "outlinewidth": 0,
             "ticks": ""
            },
            "colorscale": [
             [
              0,
              "#0d0887"
             ],
             [
              0.1111111111111111,
              "#46039f"
             ],
             [
              0.2222222222222222,
              "#7201a8"
             ],
             [
              0.3333333333333333,
              "#9c179e"
             ],
             [
              0.4444444444444444,
              "#bd3786"
             ],
             [
              0.5555555555555556,
              "#d8576b"
             ],
             [
              0.6666666666666666,
              "#ed7953"
             ],
             [
              0.7777777777777778,
              "#fb9f3a"
             ],
             [
              0.8888888888888888,
              "#fdca26"
             ],
             [
              1,
              "#f0f921"
             ]
            ],
            "type": "heatmapgl"
           }
          ],
          "histogram": [
           {
            "marker": {
             "pattern": {
              "fillmode": "overlay",
              "size": 10,
              "solidity": 0.2
             }
            },
            "type": "histogram"
           }
          ],
          "histogram2d": [
           {
            "colorbar": {
             "outlinewidth": 0,
             "ticks": ""
            },
            "colorscale": [
             [
              0,
              "#0d0887"
             ],
             [
              0.1111111111111111,
              "#46039f"
             ],
             [
              0.2222222222222222,
              "#7201a8"
             ],
             [
              0.3333333333333333,
              "#9c179e"
             ],
             [
              0.4444444444444444,
              "#bd3786"
             ],
             [
              0.5555555555555556,
              "#d8576b"
             ],
             [
              0.6666666666666666,
              "#ed7953"
             ],
             [
              0.7777777777777778,
              "#fb9f3a"
             ],
             [
              0.8888888888888888,
              "#fdca26"
             ],
             [
              1,
              "#f0f921"
             ]
            ],
            "type": "histogram2d"
           }
          ],
          "histogram2dcontour": [
           {
            "colorbar": {
             "outlinewidth": 0,
             "ticks": ""
            },
            "colorscale": [
             [
              0,
              "#0d0887"
             ],
             [
              0.1111111111111111,
              "#46039f"
             ],
             [
              0.2222222222222222,
              "#7201a8"
             ],
             [
              0.3333333333333333,
              "#9c179e"
             ],
             [
              0.4444444444444444,
              "#bd3786"
             ],
             [
              0.5555555555555556,
              "#d8576b"
             ],
             [
              0.6666666666666666,
              "#ed7953"
             ],
             [
              0.7777777777777778,
              "#fb9f3a"
             ],
             [
              0.8888888888888888,
              "#fdca26"
             ],
             [
              1,
              "#f0f921"
             ]
            ],
            "type": "histogram2dcontour"
           }
          ],
          "mesh3d": [
           {
            "colorbar": {
             "outlinewidth": 0,
             "ticks": ""
            },
            "type": "mesh3d"
           }
          ],
          "parcoords": [
           {
            "line": {
             "colorbar": {
              "outlinewidth": 0,
              "ticks": ""
             }
            },
            "type": "parcoords"
           }
          ],
          "pie": [
           {
            "automargin": true,
            "type": "pie"
           }
          ],
          "scatter": [
           {
            "fillpattern": {
             "fillmode": "overlay",
             "size": 10,
             "solidity": 0.2
            },
            "type": "scatter"
           }
          ],
          "scatter3d": [
           {
            "line": {
             "colorbar": {
              "outlinewidth": 0,
              "ticks": ""
             }
            },
            "marker": {
             "colorbar": {
              "outlinewidth": 0,
              "ticks": ""
             }
            },
            "type": "scatter3d"
           }
          ],
          "scattercarpet": [
           {
            "marker": {
             "colorbar": {
              "outlinewidth": 0,
              "ticks": ""
             }
            },
            "type": "scattercarpet"
           }
          ],
          "scattergeo": [
           {
            "marker": {
             "colorbar": {
              "outlinewidth": 0,
              "ticks": ""
             }
            },
            "type": "scattergeo"
           }
          ],
          "scattergl": [
           {
            "marker": {
             "colorbar": {
              "outlinewidth": 0,
              "ticks": ""
             }
            },
            "type": "scattergl"
           }
          ],
          "scattermapbox": [
           {
            "marker": {
             "colorbar": {
              "outlinewidth": 0,
              "ticks": ""
             }
            },
            "type": "scattermapbox"
           }
          ],
          "scatterpolar": [
           {
            "marker": {
             "colorbar": {
              "outlinewidth": 0,
              "ticks": ""
             }
            },
            "type": "scatterpolar"
           }
          ],
          "scatterpolargl": [
           {
            "marker": {
             "colorbar": {
              "outlinewidth": 0,
              "ticks": ""
             }
            },
            "type": "scatterpolargl"
           }
          ],
          "scatterternary": [
           {
            "marker": {
             "colorbar": {
              "outlinewidth": 0,
              "ticks": ""
             }
            },
            "type": "scatterternary"
           }
          ],
          "surface": [
           {
            "colorbar": {
             "outlinewidth": 0,
             "ticks": ""
            },
            "colorscale": [
             [
              0,
              "#0d0887"
             ],
             [
              0.1111111111111111,
              "#46039f"
             ],
             [
              0.2222222222222222,
              "#7201a8"
             ],
             [
              0.3333333333333333,
              "#9c179e"
             ],
             [
              0.4444444444444444,
              "#bd3786"
             ],
             [
              0.5555555555555556,
              "#d8576b"
             ],
             [
              0.6666666666666666,
              "#ed7953"
             ],
             [
              0.7777777777777778,
              "#fb9f3a"
             ],
             [
              0.8888888888888888,
              "#fdca26"
             ],
             [
              1,
              "#f0f921"
             ]
            ],
            "type": "surface"
           }
          ],
          "table": [
           {
            "cells": {
             "fill": {
              "color": "#EBF0F8"
             },
             "line": {
              "color": "white"
             }
            },
            "header": {
             "fill": {
              "color": "#C8D4E3"
             },
             "line": {
              "color": "white"
             }
            },
            "type": "table"
           }
          ]
         },
         "layout": {
          "annotationdefaults": {
           "arrowcolor": "#2a3f5f",
           "arrowhead": 0,
           "arrowwidth": 1
          },
          "autotypenumbers": "strict",
          "coloraxis": {
           "colorbar": {
            "outlinewidth": 0,
            "ticks": ""
           }
          },
          "colorscale": {
           "diverging": [
            [
             0,
             "#8e0152"
            ],
            [
             0.1,
             "#c51b7d"
            ],
            [
             0.2,
             "#de77ae"
            ],
            [
             0.3,
             "#f1b6da"
            ],
            [
             0.4,
             "#fde0ef"
            ],
            [
             0.5,
             "#f7f7f7"
            ],
            [
             0.6,
             "#e6f5d0"
            ],
            [
             0.7,
             "#b8e186"
            ],
            [
             0.8,
             "#7fbc41"
            ],
            [
             0.9,
             "#4d9221"
            ],
            [
             1,
             "#276419"
            ]
           ],
           "sequential": [
            [
             0,
             "#0d0887"
            ],
            [
             0.1111111111111111,
             "#46039f"
            ],
            [
             0.2222222222222222,
             "#7201a8"
            ],
            [
             0.3333333333333333,
             "#9c179e"
            ],
            [
             0.4444444444444444,
             "#bd3786"
            ],
            [
             0.5555555555555556,
             "#d8576b"
            ],
            [
             0.6666666666666666,
             "#ed7953"
            ],
            [
             0.7777777777777778,
             "#fb9f3a"
            ],
            [
             0.8888888888888888,
             "#fdca26"
            ],
            [
             1,
             "#f0f921"
            ]
           ],
           "sequentialminus": [
            [
             0,
             "#0d0887"
            ],
            [
             0.1111111111111111,
             "#46039f"
            ],
            [
             0.2222222222222222,
             "#7201a8"
            ],
            [
             0.3333333333333333,
             "#9c179e"
            ],
            [
             0.4444444444444444,
             "#bd3786"
            ],
            [
             0.5555555555555556,
             "#d8576b"
            ],
            [
             0.6666666666666666,
             "#ed7953"
            ],
            [
             0.7777777777777778,
             "#fb9f3a"
            ],
            [
             0.8888888888888888,
             "#fdca26"
            ],
            [
             1,
             "#f0f921"
            ]
           ]
          },
          "colorway": [
           "#636efa",
           "#EF553B",
           "#00cc96",
           "#ab63fa",
           "#FFA15A",
           "#19d3f3",
           "#FF6692",
           "#B6E880",
           "#FF97FF",
           "#FECB52"
          ],
          "font": {
           "color": "#2a3f5f"
          },
          "geo": {
           "bgcolor": "white",
           "lakecolor": "white",
           "landcolor": "#E5ECF6",
           "showlakes": true,
           "showland": true,
           "subunitcolor": "white"
          },
          "hoverlabel": {
           "align": "left"
          },
          "hovermode": "closest",
          "mapbox": {
           "style": "light"
          },
          "paper_bgcolor": "white",
          "plot_bgcolor": "#E5ECF6",
          "polar": {
           "angularaxis": {
            "gridcolor": "white",
            "linecolor": "white",
            "ticks": ""
           },
           "bgcolor": "#E5ECF6",
           "radialaxis": {
            "gridcolor": "white",
            "linecolor": "white",
            "ticks": ""
           }
          },
          "scene": {
           "xaxis": {
            "backgroundcolor": "#E5ECF6",
            "gridcolor": "white",
            "gridwidth": 2,
            "linecolor": "white",
            "showbackground": true,
            "ticks": "",
            "zerolinecolor": "white"
           },
           "yaxis": {
            "backgroundcolor": "#E5ECF6",
            "gridcolor": "white",
            "gridwidth": 2,
            "linecolor": "white",
            "showbackground": true,
            "ticks": "",
            "zerolinecolor": "white"
           },
           "zaxis": {
            "backgroundcolor": "#E5ECF6",
            "gridcolor": "white",
            "gridwidth": 2,
            "linecolor": "white",
            "showbackground": true,
            "ticks": "",
            "zerolinecolor": "white"
           }
          },
          "shapedefaults": {
           "line": {
            "color": "#2a3f5f"
           }
          },
          "ternary": {
           "aaxis": {
            "gridcolor": "white",
            "linecolor": "white",
            "ticks": ""
           },
           "baxis": {
            "gridcolor": "white",
            "linecolor": "white",
            "ticks": ""
           },
           "bgcolor": "#E5ECF6",
           "caxis": {
            "gridcolor": "white",
            "linecolor": "white",
            "ticks": ""
           }
          },
          "title": {
           "x": 0.05
          },
          "xaxis": {
           "automargin": true,
           "gridcolor": "white",
           "linecolor": "white",
           "ticks": "",
           "title": {
            "standoff": 15
           },
           "zerolinecolor": "white",
           "zerolinewidth": 2
          },
          "yaxis": {
           "automargin": true,
           "gridcolor": "white",
           "linecolor": "white",
           "ticks": "",
           "title": {
            "standoff": 15
           },
           "zerolinecolor": "white",
           "zerolinewidth": 2
          }
         }
        },
        "title": {
         "text": "Graphique 3D interactif"
        }
       }
      },
      "text/html": [
       "<div>                            <div id=\"a9a88740-f397-44d2-9cb5-a7994b43d975\" class=\"plotly-graph-div\" style=\"height:525px; width:100%;\"></div>            <script type=\"text/javascript\">                require([\"plotly\"], function(Plotly) {                    window.PLOTLYENV=window.PLOTLYENV || {};                                    if (document.getElementById(\"a9a88740-f397-44d2-9cb5-a7994b43d975\")) {                    Plotly.newPlot(                        \"a9a88740-f397-44d2-9cb5-a7994b43d975\",                        [{\"hovertemplate\":\"Groupe politique=CRCE<br>MCMC=%{x}<br>Position 1=%{y}<br>Position 2=%{z}<extra></extra>\",\"legendgroup\":\"CRCE\",\"marker\":{\"color\":\"#636efa\",\"symbol\":\"circle\"},\"mode\":\"markers\",\"name\":\"CRCE\",\"scene\":\"scene\",\"showlegend\":true,\"x\":[-0.021204237415476952],\"y\":[1.6538979900231954],\"z\":[-0.3258237582255022],\"type\":\"scatter3d\"},{\"hovertemplate\":\"Groupe politique=GEST<br>MCMC=%{x}<br>Position 1=%{y}<br>Position 2=%{z}<extra></extra>\",\"legendgroup\":\"GEST\",\"marker\":{\"color\":\"#EF553B\",\"symbol\":\"circle\"},\"mode\":\"markers\",\"name\":\"GEST\",\"scene\":\"scene\",\"showlegend\":true,\"x\":[0.0157903556116604],\"y\":[1.5698182608136104],\"z\":[-0.4650047505106227],\"type\":\"scatter3d\"},{\"hovertemplate\":\"Groupe politique=Les Ind\\u00e9pendants<br>MCMC=%{x}<br>Position 1=%{y}<br>Position 2=%{z}<extra></extra>\",\"legendgroup\":\"Les Ind\\u00e9pendants\",\"marker\":{\"color\":\"#00cc96\",\"symbol\":\"circle\"},\"mode\":\"markers\",\"name\":\"Les Ind\\u00e9pendants\",\"scene\":\"scene\",\"showlegend\":true,\"x\":[0.00214628167520285],\"y\":[-0.3615127143371917],\"z\":[1.3636576375881595],\"type\":\"scatter3d\"},{\"hovertemplate\":\"Groupe politique=Les R\\u00e9publicains<br>MCMC=%{x}<br>Position 1=%{y}<br>Position 2=%{z}<extra></extra>\",\"legendgroup\":\"Les R\\u00e9publicains\",\"marker\":{\"color\":\"#ab63fa\",\"symbol\":\"circle\"},\"mode\":\"markers\",\"name\":\"Les R\\u00e9publicains\",\"scene\":\"scene\",\"showlegend\":true,\"x\":[0.015454127697821054],\"y\":[-0.7505501191009009],\"z\":[-0.534292729757954],\"type\":\"scatter3d\"},{\"hovertemplate\":\"Groupe politique=NI<br>MCMC=%{x}<br>Position 1=%{y}<br>Position 2=%{z}<extra></extra>\",\"legendgroup\":\"NI\",\"marker\":{\"color\":\"#FFA15A\",\"symbol\":\"circle\"},\"mode\":\"markers\",\"name\":\"NI\",\"scene\":\"scene\",\"showlegend\":true,\"x\":[0.0097170338661252],\"y\":[0.4861881729742252],\"z\":[-0.0684728043892241],\"type\":\"scatter3d\"},{\"hovertemplate\":\"Groupe politique=RDPI<br>MCMC=%{x}<br>Position 1=%{y}<br>Position 2=%{z}<extra></extra>\",\"legendgroup\":\"RDPI\",\"marker\":{\"color\":\"#19d3f3\",\"symbol\":\"circle\"},\"mode\":\"markers\",\"name\":\"RDPI\",\"scene\":\"scene\",\"showlegend\":true,\"x\":[0.0023972491813572337],\"y\":[-0.14114715784413773],\"z\":[3.058191196242738],\"type\":\"scatter3d\"},{\"hovertemplate\":\"Groupe politique=RDSE<br>MCMC=%{x}<br>Position 1=%{y}<br>Position 2=%{z}<extra></extra>\",\"legendgroup\":\"RDSE\",\"marker\":{\"color\":\"#FF6692\",\"symbol\":\"circle\"},\"mode\":\"markers\",\"name\":\"RDSE\",\"scene\":\"scene\",\"showlegend\":true,\"x\":[-0.0009201369951665499],\"y\":[0.33325966710824106],\"z\":[1.8132665984125462],\"type\":\"scatter3d\"},{\"hovertemplate\":\"Groupe politique=SER<br>MCMC=%{x}<br>Position 1=%{y}<br>Position 2=%{z}<extra></extra>\",\"legendgroup\":\"SER\",\"marker\":{\"color\":\"#B6E880\",\"symbol\":\"circle\"},\"mode\":\"markers\",\"name\":\"SER\",\"scene\":\"scene\",\"showlegend\":true,\"x\":[-0.017473509450108154],\"y\":[1.6202407850961207],\"z\":[-0.32476077009477666],\"type\":\"scatter3d\"},{\"hovertemplate\":\"Groupe politique=UC<br>MCMC=%{x}<br>Position 1=%{y}<br>Position 2=%{z}<extra></extra>\",\"legendgroup\":\"UC\",\"marker\":{\"color\":\"#FF97FF\",\"symbol\":\"circle\"},\"mode\":\"markers\",\"name\":\"UC\",\"scene\":\"scene\",\"showlegend\":true,\"x\":[0.02678051445163117],\"y\":[-0.6288796255656841],\"z\":[-0.2956098448852725],\"type\":\"scatter3d\"}],                        {\"template\":{\"data\":{\"histogram2dcontour\":[{\"type\":\"histogram2dcontour\",\"colorbar\":{\"outlinewidth\":0,\"ticks\":\"\"},\"colorscale\":[[0.0,\"#0d0887\"],[0.1111111111111111,\"#46039f\"],[0.2222222222222222,\"#7201a8\"],[0.3333333333333333,\"#9c179e\"],[0.4444444444444444,\"#bd3786\"],[0.5555555555555556,\"#d8576b\"],[0.6666666666666666,\"#ed7953\"],[0.7777777777777778,\"#fb9f3a\"],[0.8888888888888888,\"#fdca26\"],[1.0,\"#f0f921\"]]}],\"choropleth\":[{\"type\":\"choropleth\",\"colorbar\":{\"outlinewidth\":0,\"ticks\":\"\"}}],\"histogram2d\":[{\"type\":\"histogram2d\",\"colorbar\":{\"outlinewidth\":0,\"ticks\":\"\"},\"colorscale\":[[0.0,\"#0d0887\"],[0.1111111111111111,\"#46039f\"],[0.2222222222222222,\"#7201a8\"],[0.3333333333333333,\"#9c179e\"],[0.4444444444444444,\"#bd3786\"],[0.5555555555555556,\"#d8576b\"],[0.6666666666666666,\"#ed7953\"],[0.7777777777777778,\"#fb9f3a\"],[0.8888888888888888,\"#fdca26\"],[1.0,\"#f0f921\"]]}],\"heatmap\":[{\"type\":\"heatmap\",\"colorbar\":{\"outlinewidth\":0,\"ticks\":\"\"},\"colorscale\":[[0.0,\"#0d0887\"],[0.1111111111111111,\"#46039f\"],[0.2222222222222222,\"#7201a8\"],[0.3333333333333333,\"#9c179e\"],[0.4444444444444444,\"#bd3786\"],[0.5555555555555556,\"#d8576b\"],[0.6666666666666666,\"#ed7953\"],[0.7777777777777778,\"#fb9f3a\"],[0.8888888888888888,\"#fdca26\"],[1.0,\"#f0f921\"]]}],\"heatmapgl\":[{\"type\":\"heatmapgl\",\"colorbar\":{\"outlinewidth\":0,\"ticks\":\"\"},\"colorscale\":[[0.0,\"#0d0887\"],[0.1111111111111111,\"#46039f\"],[0.2222222222222222,\"#7201a8\"],[0.3333333333333333,\"#9c179e\"],[0.4444444444444444,\"#bd3786\"],[0.5555555555555556,\"#d8576b\"],[0.6666666666666666,\"#ed7953\"],[0.7777777777777778,\"#fb9f3a\"],[0.8888888888888888,\"#fdca26\"],[1.0,\"#f0f921\"]]}],\"contourcarpet\":[{\"type\":\"contourcarpet\",\"colorbar\":{\"outlinewidth\":0,\"ticks\":\"\"}}],\"contour\":[{\"type\":\"contour\",\"colorbar\":{\"outlinewidth\":0,\"ticks\":\"\"},\"colorscale\":[[0.0,\"#0d0887\"],[0.1111111111111111,\"#46039f\"],[0.2222222222222222,\"#7201a8\"],[0.3333333333333333,\"#9c179e\"],[0.4444444444444444,\"#bd3786\"],[0.5555555555555556,\"#d8576b\"],[0.6666666666666666,\"#ed7953\"],[0.7777777777777778,\"#fb9f3a\"],[0.8888888888888888,\"#fdca26\"],[1.0,\"#f0f921\"]]}],\"surface\":[{\"type\":\"surface\",\"colorbar\":{\"outlinewidth\":0,\"ticks\":\"\"},\"colorscale\":[[0.0,\"#0d0887\"],[0.1111111111111111,\"#46039f\"],[0.2222222222222222,\"#7201a8\"],[0.3333333333333333,\"#9c179e\"],[0.4444444444444444,\"#bd3786\"],[0.5555555555555556,\"#d8576b\"],[0.6666666666666666,\"#ed7953\"],[0.7777777777777778,\"#fb9f3a\"],[0.8888888888888888,\"#fdca26\"],[1.0,\"#f0f921\"]]}],\"mesh3d\":[{\"type\":\"mesh3d\",\"colorbar\":{\"outlinewidth\":0,\"ticks\":\"\"}}],\"scatter\":[{\"fillpattern\":{\"fillmode\":\"overlay\",\"size\":10,\"solidity\":0.2},\"type\":\"scatter\"}],\"parcoords\":[{\"type\":\"parcoords\",\"line\":{\"colorbar\":{\"outlinewidth\":0,\"ticks\":\"\"}}}],\"scatterpolargl\":[{\"type\":\"scatterpolargl\",\"marker\":{\"colorbar\":{\"outlinewidth\":0,\"ticks\":\"\"}}}],\"bar\":[{\"error_x\":{\"color\":\"#2a3f5f\"},\"error_y\":{\"color\":\"#2a3f5f\"},\"marker\":{\"line\":{\"color\":\"#E5ECF6\",\"width\":0.5},\"pattern\":{\"fillmode\":\"overlay\",\"size\":10,\"solidity\":0.2}},\"type\":\"bar\"}],\"scattergeo\":[{\"type\":\"scattergeo\",\"marker\":{\"colorbar\":{\"outlinewidth\":0,\"ticks\":\"\"}}}],\"scatterpolar\":[{\"type\":\"scatterpolar\",\"marker\":{\"colorbar\":{\"outlinewidth\":0,\"ticks\":\"\"}}}],\"histogram\":[{\"marker\":{\"pattern\":{\"fillmode\":\"overlay\",\"size\":10,\"solidity\":0.2}},\"type\":\"histogram\"}],\"scattergl\":[{\"type\":\"scattergl\",\"marker\":{\"colorbar\":{\"outlinewidth\":0,\"ticks\":\"\"}}}],\"scatter3d\":[{\"type\":\"scatter3d\",\"line\":{\"colorbar\":{\"outlinewidth\":0,\"ticks\":\"\"}},\"marker\":{\"colorbar\":{\"outlinewidth\":0,\"ticks\":\"\"}}}],\"scattermapbox\":[{\"type\":\"scattermapbox\",\"marker\":{\"colorbar\":{\"outlinewidth\":0,\"ticks\":\"\"}}}],\"scatterternary\":[{\"type\":\"scatterternary\",\"marker\":{\"colorbar\":{\"outlinewidth\":0,\"ticks\":\"\"}}}],\"scattercarpet\":[{\"type\":\"scattercarpet\",\"marker\":{\"colorbar\":{\"outlinewidth\":0,\"ticks\":\"\"}}}],\"carpet\":[{\"aaxis\":{\"endlinecolor\":\"#2a3f5f\",\"gridcolor\":\"white\",\"linecolor\":\"white\",\"minorgridcolor\":\"white\",\"startlinecolor\":\"#2a3f5f\"},\"baxis\":{\"endlinecolor\":\"#2a3f5f\",\"gridcolor\":\"white\",\"linecolor\":\"white\",\"minorgridcolor\":\"white\",\"startlinecolor\":\"#2a3f5f\"},\"type\":\"carpet\"}],\"table\":[{\"cells\":{\"fill\":{\"color\":\"#EBF0F8\"},\"line\":{\"color\":\"white\"}},\"header\":{\"fill\":{\"color\":\"#C8D4E3\"},\"line\":{\"color\":\"white\"}},\"type\":\"table\"}],\"barpolar\":[{\"marker\":{\"line\":{\"color\":\"#E5ECF6\",\"width\":0.5},\"pattern\":{\"fillmode\":\"overlay\",\"size\":10,\"solidity\":0.2}},\"type\":\"barpolar\"}],\"pie\":[{\"automargin\":true,\"type\":\"pie\"}]},\"layout\":{\"autotypenumbers\":\"strict\",\"colorway\":[\"#636efa\",\"#EF553B\",\"#00cc96\",\"#ab63fa\",\"#FFA15A\",\"#19d3f3\",\"#FF6692\",\"#B6E880\",\"#FF97FF\",\"#FECB52\"],\"font\":{\"color\":\"#2a3f5f\"},\"hovermode\":\"closest\",\"hoverlabel\":{\"align\":\"left\"},\"paper_bgcolor\":\"white\",\"plot_bgcolor\":\"#E5ECF6\",\"polar\":{\"bgcolor\":\"#E5ECF6\",\"angularaxis\":{\"gridcolor\":\"white\",\"linecolor\":\"white\",\"ticks\":\"\"},\"radialaxis\":{\"gridcolor\":\"white\",\"linecolor\":\"white\",\"ticks\":\"\"}},\"ternary\":{\"bgcolor\":\"#E5ECF6\",\"aaxis\":{\"gridcolor\":\"white\",\"linecolor\":\"white\",\"ticks\":\"\"},\"baxis\":{\"gridcolor\":\"white\",\"linecolor\":\"white\",\"ticks\":\"\"},\"caxis\":{\"gridcolor\":\"white\",\"linecolor\":\"white\",\"ticks\":\"\"}},\"coloraxis\":{\"colorbar\":{\"outlinewidth\":0,\"ticks\":\"\"}},\"colorscale\":{\"sequential\":[[0.0,\"#0d0887\"],[0.1111111111111111,\"#46039f\"],[0.2222222222222222,\"#7201a8\"],[0.3333333333333333,\"#9c179e\"],[0.4444444444444444,\"#bd3786\"],[0.5555555555555556,\"#d8576b\"],[0.6666666666666666,\"#ed7953\"],[0.7777777777777778,\"#fb9f3a\"],[0.8888888888888888,\"#fdca26\"],[1.0,\"#f0f921\"]],\"sequentialminus\":[[0.0,\"#0d0887\"],[0.1111111111111111,\"#46039f\"],[0.2222222222222222,\"#7201a8\"],[0.3333333333333333,\"#9c179e\"],[0.4444444444444444,\"#bd3786\"],[0.5555555555555556,\"#d8576b\"],[0.6666666666666666,\"#ed7953\"],[0.7777777777777778,\"#fb9f3a\"],[0.8888888888888888,\"#fdca26\"],[1.0,\"#f0f921\"]],\"diverging\":[[0,\"#8e0152\"],[0.1,\"#c51b7d\"],[0.2,\"#de77ae\"],[0.3,\"#f1b6da\"],[0.4,\"#fde0ef\"],[0.5,\"#f7f7f7\"],[0.6,\"#e6f5d0\"],[0.7,\"#b8e186\"],[0.8,\"#7fbc41\"],[0.9,\"#4d9221\"],[1,\"#276419\"]]},\"xaxis\":{\"gridcolor\":\"white\",\"linecolor\":\"white\",\"ticks\":\"\",\"title\":{\"standoff\":15},\"zerolinecolor\":\"white\",\"automargin\":true,\"zerolinewidth\":2},\"yaxis\":{\"gridcolor\":\"white\",\"linecolor\":\"white\",\"ticks\":\"\",\"title\":{\"standoff\":15},\"zerolinecolor\":\"white\",\"automargin\":true,\"zerolinewidth\":2},\"scene\":{\"xaxis\":{\"backgroundcolor\":\"#E5ECF6\",\"gridcolor\":\"white\",\"linecolor\":\"white\",\"showbackground\":true,\"ticks\":\"\",\"zerolinecolor\":\"white\",\"gridwidth\":2},\"yaxis\":{\"backgroundcolor\":\"#E5ECF6\",\"gridcolor\":\"white\",\"linecolor\":\"white\",\"showbackground\":true,\"ticks\":\"\",\"zerolinecolor\":\"white\",\"gridwidth\":2},\"zaxis\":{\"backgroundcolor\":\"#E5ECF6\",\"gridcolor\":\"white\",\"linecolor\":\"white\",\"showbackground\":true,\"ticks\":\"\",\"zerolinecolor\":\"white\",\"gridwidth\":2}},\"shapedefaults\":{\"line\":{\"color\":\"#2a3f5f\"}},\"annotationdefaults\":{\"arrowcolor\":\"#2a3f5f\",\"arrowhead\":0,\"arrowwidth\":1},\"geo\":{\"bgcolor\":\"white\",\"landcolor\":\"#E5ECF6\",\"subunitcolor\":\"white\",\"showland\":true,\"showlakes\":true,\"lakecolor\":\"white\"},\"title\":{\"x\":0.05},\"mapbox\":{\"style\":\"light\"}}},\"scene\":{\"domain\":{\"x\":[0.0,1.0],\"y\":[0.0,1.0]},\"xaxis\":{\"title\":{\"text\":\"MCMC\"}},\"yaxis\":{\"title\":{\"text\":\"Position 1\"}},\"zaxis\":{\"title\":{\"text\":\"Position 2\"}}},\"legend\":{\"title\":{\"text\":\"Groupe politique\"},\"tracegroupgap\":0},\"margin\":{\"t\":60},\"title\":{\"text\":\"Graphique 3D interactif\"}},                        {\"responsive\": true}                    ).then(function(){\n",
       "                            \n",
       "var gd = document.getElementById('a9a88740-f397-44d2-9cb5-a7994b43d975');\n",
       "var x = new MutationObserver(function (mutations, observer) {{\n",
       "        var display = window.getComputedStyle(gd).display;\n",
       "        if (!display || display === 'none') {{\n",
       "            console.log([gd, 'removed!']);\n",
       "            Plotly.purge(gd);\n",
       "            observer.disconnect();\n",
       "        }}\n",
       "}});\n",
       "\n",
       "// Listen for the removal of the full notebook cells\n",
       "var notebookContainer = gd.closest('#notebook-container');\n",
       "if (notebookContainer) {{\n",
       "    x.observe(notebookContainer, {childList: true});\n",
       "}}\n",
       "\n",
       "// Listen for the clearing of the current output cell\n",
       "var outputEl = gd.closest('.output');\n",
       "if (outputEl) {{\n",
       "    x.observe(outputEl, {childList: true});\n",
       "}}\n",
       "\n",
       "                        })                };                });            </script>        </div>"
      ]
     },
     "metadata": {},
     "output_type": "display_data"
    }
   ],
   "source": [
    "# Réinitialiser l'index du DataFrame df_ACPvsMCMC_mean\n",
    "df_ACPvsMCMC_mean = df_ACPvsMCMC_mean.reset_index()\n",
    "\n",
    "# Créer un graphique 3D interactif avec les données du DataFrame df_ACPvsMCMC_mean\n",
    "fig = px.scatter_3d(df_ACPvsMCMC_mean, x='MCMC', y='Position 1', z='Position 2', color='Groupe politique')\n",
    "\n",
    "# Mettre à jour la mise en page du graphique avec un titre et les titres des axes\n",
    "\n",
    "fig.update_layout(title=\"Graphique 3D interactif\",\n",
    "                  scene=dict(xaxis_title='MCMC', \n",
    "                             yaxis_title='Position 1', \n",
    "                             zaxis_title='Position 2'))\n",
    "\n",
    "fig.show()"
   ]
  },
  {
   "cell_type": "code",
   "execution_count": 44,
   "id": "6e738774",
   "metadata": {},
   "outputs": [
    {
     "data": {
      "text/html": [
       "<div>\n",
       "<style scoped>\n",
       "    .dataframe tbody tr th:only-of-type {\n",
       "        vertical-align: middle;\n",
       "    }\n",
       "\n",
       "    .dataframe tbody tr th {\n",
       "        vertical-align: top;\n",
       "    }\n",
       "\n",
       "    .dataframe thead th {\n",
       "        text-align: right;\n",
       "    }\n",
       "</style>\n",
       "<table border=\"1\" class=\"dataframe\">\n",
       "  <thead>\n",
       "    <tr style=\"text-align: right;\">\n",
       "      <th></th>\n",
       "      <th>eu_position</th>\n",
       "      <th>eu_position_sd</th>\n",
       "      <th>eu_salience</th>\n",
       "      <th>eu_dissent</th>\n",
       "      <th>eu_blur</th>\n",
       "      <th>eu_cohesion</th>\n",
       "      <th>eu_foreign</th>\n",
       "      <th>eu_intmark</th>\n",
       "      <th>eu_budgets</th>\n",
       "      <th>eu_asylum</th>\n",
       "      <th>...</th>\n",
       "      <th>regions</th>\n",
       "      <th>russian_interference</th>\n",
       "      <th>anti_islam_rhetoric</th>\n",
       "      <th>people_vs_elite</th>\n",
       "      <th>antielite_salience</th>\n",
       "      <th>corrupt_salience</th>\n",
       "      <th>members_vs_leadership</th>\n",
       "      <th>eu_econ_require</th>\n",
       "      <th>eu_political_require</th>\n",
       "      <th>eu_googov_require</th>\n",
       "    </tr>\n",
       "    <tr>\n",
       "      <th>party</th>\n",
       "      <th></th>\n",
       "      <th></th>\n",
       "      <th></th>\n",
       "      <th></th>\n",
       "      <th></th>\n",
       "      <th></th>\n",
       "      <th></th>\n",
       "      <th></th>\n",
       "      <th></th>\n",
       "      <th></th>\n",
       "      <th></th>\n",
       "      <th></th>\n",
       "      <th></th>\n",
       "      <th></th>\n",
       "      <th></th>\n",
       "      <th></th>\n",
       "      <th></th>\n",
       "      <th></th>\n",
       "      <th></th>\n",
       "      <th></th>\n",
       "      <th></th>\n",
       "    </tr>\n",
       "  </thead>\n",
       "  <tbody>\n",
       "    <tr>\n",
       "      <th>PCF</th>\n",
       "      <td>3.000000</td>\n",
       "      <td>1.069045</td>\n",
       "      <td>4.625000</td>\n",
       "      <td>3.666667</td>\n",
       "      <td>4.000000</td>\n",
       "      <td>4.800000</td>\n",
       "      <td>2.800000</td>\n",
       "      <td>2.4</td>\n",
       "      <td>1.333333</td>\n",
       "      <td>3.833333</td>\n",
       "      <td>...</td>\n",
       "      <td>4.833334</td>\n",
       "      <td>1.500000</td>\n",
       "      <td>2.000000</td>\n",
       "      <td>4.125000</td>\n",
       "      <td>6.857143</td>\n",
       "      <td>2.857143</td>\n",
       "      <td>5.000000</td>\n",
       "      <td>NaN</td>\n",
       "      <td>NaN</td>\n",
       "      <td>NaN</td>\n",
       "    </tr>\n",
       "    <tr>\n",
       "      <th>PS</th>\n",
       "      <td>6.125000</td>\n",
       "      <td>0.640870</td>\n",
       "      <td>6.375000</td>\n",
       "      <td>5.333334</td>\n",
       "      <td>4.250000</td>\n",
       "      <td>6.200000</td>\n",
       "      <td>4.500000</td>\n",
       "      <td>4.8</td>\n",
       "      <td>2.833333</td>\n",
       "      <td>4.428571</td>\n",
       "      <td>...</td>\n",
       "      <td>3.500000</td>\n",
       "      <td>3.333333</td>\n",
       "      <td>2.285714</td>\n",
       "      <td>4.125000</td>\n",
       "      <td>3.857143</td>\n",
       "      <td>3.285714</td>\n",
       "      <td>5.250000</td>\n",
       "      <td>NaN</td>\n",
       "      <td>NaN</td>\n",
       "      <td>NaN</td>\n",
       "    </tr>\n",
       "    <tr>\n",
       "      <th>EELV</th>\n",
       "      <td>6.375000</td>\n",
       "      <td>0.744024</td>\n",
       "      <td>6.875000</td>\n",
       "      <td>3.666667</td>\n",
       "      <td>1.750000</td>\n",
       "      <td>6.000000</td>\n",
       "      <td>4.833334</td>\n",
       "      <td>5.0</td>\n",
       "      <td>4.000000</td>\n",
       "      <td>5.428571</td>\n",
       "      <td>...</td>\n",
       "      <td>2.666667</td>\n",
       "      <td>3.166667</td>\n",
       "      <td>1.571428</td>\n",
       "      <td>5.750000</td>\n",
       "      <td>4.285714</td>\n",
       "      <td>4.142857</td>\n",
       "      <td>3.500000</td>\n",
       "      <td>NaN</td>\n",
       "      <td>NaN</td>\n",
       "      <td>NaN</td>\n",
       "    </tr>\n",
       "    <tr>\n",
       "      <th>LR</th>\n",
       "      <td>5.500000</td>\n",
       "      <td>0.925820</td>\n",
       "      <td>6.000000</td>\n",
       "      <td>6.666666</td>\n",
       "      <td>4.000000</td>\n",
       "      <td>5.400000</td>\n",
       "      <td>2.500000</td>\n",
       "      <td>5.8</td>\n",
       "      <td>4.166666</td>\n",
       "      <td>3.000000</td>\n",
       "      <td>...</td>\n",
       "      <td>5.000000</td>\n",
       "      <td>2.666667</td>\n",
       "      <td>6.500000</td>\n",
       "      <td>2.285714</td>\n",
       "      <td>3.714286</td>\n",
       "      <td>3.000000</td>\n",
       "      <td>7.375000</td>\n",
       "      <td>NaN</td>\n",
       "      <td>NaN</td>\n",
       "      <td>NaN</td>\n",
       "    </tr>\n",
       "    <tr>\n",
       "      <th>RN</th>\n",
       "      <td>1.375000</td>\n",
       "      <td>0.517549</td>\n",
       "      <td>8.625000</td>\n",
       "      <td>2.666667</td>\n",
       "      <td>2.500000</td>\n",
       "      <td>2.000000</td>\n",
       "      <td>1.250000</td>\n",
       "      <td>1.6</td>\n",
       "      <td>1.000000</td>\n",
       "      <td>1.125000</td>\n",
       "      <td>...</td>\n",
       "      <td>4.600000</td>\n",
       "      <td>2.333333</td>\n",
       "      <td>9.500000</td>\n",
       "      <td>7.750000</td>\n",
       "      <td>9.428572</td>\n",
       "      <td>5.714286</td>\n",
       "      <td>9.500000</td>\n",
       "      <td>NaN</td>\n",
       "      <td>NaN</td>\n",
       "      <td>NaN</td>\n",
       "    </tr>\n",
       "    <tr>\n",
       "      <th>MoDem</th>\n",
       "      <td>6.714286</td>\n",
       "      <td>0.487950</td>\n",
       "      <td>7.125000</td>\n",
       "      <td>2.666667</td>\n",
       "      <td>2.666667</td>\n",
       "      <td>5.400000</td>\n",
       "      <td>3.666667</td>\n",
       "      <td>6.6</td>\n",
       "      <td>5.000000</td>\n",
       "      <td>4.500000</td>\n",
       "      <td>...</td>\n",
       "      <td>4.200000</td>\n",
       "      <td>3.000000</td>\n",
       "      <td>2.285714</td>\n",
       "      <td>3.375000</td>\n",
       "      <td>3.666667</td>\n",
       "      <td>3.571429</td>\n",
       "      <td>6.428571</td>\n",
       "      <td>NaN</td>\n",
       "      <td>NaN</td>\n",
       "      <td>NaN</td>\n",
       "    </tr>\n",
       "    <tr>\n",
       "      <th>LREM</th>\n",
       "      <td>6.833334</td>\n",
       "      <td>0.408248</td>\n",
       "      <td>8.833333</td>\n",
       "      <td>3.000000</td>\n",
       "      <td>1.000000</td>\n",
       "      <td>6.666666</td>\n",
       "      <td>4.200000</td>\n",
       "      <td>6.5</td>\n",
       "      <td>4.600000</td>\n",
       "      <td>4.750000</td>\n",
       "      <td>...</td>\n",
       "      <td>4.750000</td>\n",
       "      <td>4.750000</td>\n",
       "      <td>3.200000</td>\n",
       "      <td>3.333333</td>\n",
       "      <td>5.000000</td>\n",
       "      <td>2.833333</td>\n",
       "      <td>9.333333</td>\n",
       "      <td>NaN</td>\n",
       "      <td>NaN</td>\n",
       "      <td>NaN</td>\n",
       "    </tr>\n",
       "    <tr>\n",
       "      <th>FI</th>\n",
       "      <td>2.875000</td>\n",
       "      <td>1.125992</td>\n",
       "      <td>6.875000</td>\n",
       "      <td>6.500000</td>\n",
       "      <td>4.750000</td>\n",
       "      <td>3.833333</td>\n",
       "      <td>2.166667</td>\n",
       "      <td>2.2</td>\n",
       "      <td>1.166667</td>\n",
       "      <td>2.833333</td>\n",
       "      <td>...</td>\n",
       "      <td>5.200000</td>\n",
       "      <td>2.500000</td>\n",
       "      <td>1.833333</td>\n",
       "      <td>7.000000</td>\n",
       "      <td>9.571428</td>\n",
       "      <td>5.714286</td>\n",
       "      <td>7.750000</td>\n",
       "      <td>NaN</td>\n",
       "      <td>NaN</td>\n",
       "      <td>NaN</td>\n",
       "    </tr>\n",
       "  </tbody>\n",
       "</table>\n",
       "<p>8 rows × 51 columns</p>\n",
       "</div>"
      ],
      "text/plain": [
       "       eu_position  eu_position_sd  eu_salience  eu_dissent   eu_blur  \\\n",
       "party                                                                   \n",
       "PCF       3.000000        1.069045     4.625000    3.666667  4.000000   \n",
       "PS        6.125000        0.640870     6.375000    5.333334  4.250000   \n",
       "EELV      6.375000        0.744024     6.875000    3.666667  1.750000   \n",
       "LR        5.500000        0.925820     6.000000    6.666666  4.000000   \n",
       "RN        1.375000        0.517549     8.625000    2.666667  2.500000   \n",
       "MoDem     6.714286        0.487950     7.125000    2.666667  2.666667   \n",
       "LREM      6.833334        0.408248     8.833333    3.000000  1.000000   \n",
       "FI        2.875000        1.125992     6.875000    6.500000  4.750000   \n",
       "\n",
       "       eu_cohesion  eu_foreign  eu_intmark  eu_budgets  eu_asylum  ...  \\\n",
       "party                                                              ...   \n",
       "PCF       4.800000    2.800000         2.4    1.333333   3.833333  ...   \n",
       "PS        6.200000    4.500000         4.8    2.833333   4.428571  ...   \n",
       "EELV      6.000000    4.833334         5.0    4.000000   5.428571  ...   \n",
       "LR        5.400000    2.500000         5.8    4.166666   3.000000  ...   \n",
       "RN        2.000000    1.250000         1.6    1.000000   1.125000  ...   \n",
       "MoDem     5.400000    3.666667         6.6    5.000000   4.500000  ...   \n",
       "LREM      6.666666    4.200000         6.5    4.600000   4.750000  ...   \n",
       "FI        3.833333    2.166667         2.2    1.166667   2.833333  ...   \n",
       "\n",
       "        regions  russian_interference  anti_islam_rhetoric  people_vs_elite  \\\n",
       "party                                                                         \n",
       "PCF    4.833334              1.500000             2.000000         4.125000   \n",
       "PS     3.500000              3.333333             2.285714         4.125000   \n",
       "EELV   2.666667              3.166667             1.571428         5.750000   \n",
       "LR     5.000000              2.666667             6.500000         2.285714   \n",
       "RN     4.600000              2.333333             9.500000         7.750000   \n",
       "MoDem  4.200000              3.000000             2.285714         3.375000   \n",
       "LREM   4.750000              4.750000             3.200000         3.333333   \n",
       "FI     5.200000              2.500000             1.833333         7.000000   \n",
       "\n",
       "       antielite_salience  corrupt_salience  members_vs_leadership  \\\n",
       "party                                                                \n",
       "PCF              6.857143          2.857143               5.000000   \n",
       "PS               3.857143          3.285714               5.250000   \n",
       "EELV             4.285714          4.142857               3.500000   \n",
       "LR               3.714286          3.000000               7.375000   \n",
       "RN               9.428572          5.714286               9.500000   \n",
       "MoDem            3.666667          3.571429               6.428571   \n",
       "LREM             5.000000          2.833333               9.333333   \n",
       "FI               9.571428          5.714286               7.750000   \n",
       "\n",
       "       eu_econ_require  eu_political_require  eu_googov_require  \n",
       "party                                                            \n",
       "PCF                NaN                   NaN                NaN  \n",
       "PS                 NaN                   NaN                NaN  \n",
       "EELV               NaN                   NaN                NaN  \n",
       "LR                 NaN                   NaN                NaN  \n",
       "RN                 NaN                   NaN                NaN  \n",
       "MoDem              NaN                   NaN                NaN  \n",
       "LREM               NaN                   NaN                NaN  \n",
       "FI                 NaN                   NaN                NaN  \n",
       "\n",
       "[8 rows x 51 columns]"
      ]
     },
     "execution_count": 44,
     "metadata": {},
     "output_type": "execute_result"
    }
   ],
   "source": [
    "# Création du nouveau dataframe df_CHES2019V3_fr avec la première occurrence de FI\n",
    "df_CHES2019V3_fr = df_CHES2019V3[df_CHES2019V3['party'].isin(['PS','PCF', 'EELV', 'LR', 'RN', 'MoDem', 'LREM', 'FI'])].copy()\n",
    "\n",
    "# Suppression les lignes où country est différent de 6\n",
    "df_CHES2019V3_fr = df_CHES2019V3_fr[df_CHES2019V3_fr['country'] == 6]\n",
    "\n",
    "# Suppression des colonnes \"country\", \"eastwest\", \"party_id\"\n",
    "df_CHES2019V3_fr = df_CHES2019V3_fr.drop(columns=['country', 'eastwest', 'party_id'])\n",
    "\n",
    "# Définition de la colonne \"party\" comme index\n",
    "df_CHES2019V3_fr = df_CHES2019V3_fr.set_index('party')\n",
    "\n",
    "df_CHES2019V3_fr"
   ]
  },
  {
   "cell_type": "code",
   "execution_count": 45,
   "id": "b959ef53",
   "metadata": {},
   "outputs": [
    {
     "data": {
      "text/html": [
       "<div>\n",
       "<style scoped>\n",
       "    .dataframe tbody tr th:only-of-type {\n",
       "        vertical-align: middle;\n",
       "    }\n",
       "\n",
       "    .dataframe tbody tr th {\n",
       "        vertical-align: top;\n",
       "    }\n",
       "\n",
       "    .dataframe thead th {\n",
       "        text-align: right;\n",
       "    }\n",
       "</style>\n",
       "<table border=\"1\" class=\"dataframe\">\n",
       "  <thead>\n",
       "    <tr style=\"text-align: right;\">\n",
       "      <th></th>\n",
       "      <th>index</th>\n",
       "      <th>MCMC</th>\n",
       "      <th>Position 1</th>\n",
       "      <th>Position 2</th>\n",
       "    </tr>\n",
       "    <tr>\n",
       "      <th>Groupe politique</th>\n",
       "      <th></th>\n",
       "      <th></th>\n",
       "      <th></th>\n",
       "      <th></th>\n",
       "    </tr>\n",
       "  </thead>\n",
       "  <tbody>\n",
       "    <tr>\n",
       "      <th>PCF</th>\n",
       "      <td>0</td>\n",
       "      <td>-0.021204</td>\n",
       "      <td>1.653898</td>\n",
       "      <td>-0.325824</td>\n",
       "    </tr>\n",
       "    <tr>\n",
       "      <th>EELV</th>\n",
       "      <td>1</td>\n",
       "      <td>0.015790</td>\n",
       "      <td>1.569818</td>\n",
       "      <td>-0.465005</td>\n",
       "    </tr>\n",
       "    <tr>\n",
       "      <th>Les Indépendants</th>\n",
       "      <td>2</td>\n",
       "      <td>0.002146</td>\n",
       "      <td>-0.361513</td>\n",
       "      <td>1.363658</td>\n",
       "    </tr>\n",
       "    <tr>\n",
       "      <th>LR</th>\n",
       "      <td>3</td>\n",
       "      <td>0.015454</td>\n",
       "      <td>-0.750550</td>\n",
       "      <td>-0.534293</td>\n",
       "    </tr>\n",
       "    <tr>\n",
       "      <th>NI</th>\n",
       "      <td>4</td>\n",
       "      <td>0.009717</td>\n",
       "      <td>0.486188</td>\n",
       "      <td>-0.068473</td>\n",
       "    </tr>\n",
       "    <tr>\n",
       "      <th>LREM</th>\n",
       "      <td>5</td>\n",
       "      <td>0.002397</td>\n",
       "      <td>-0.141147</td>\n",
       "      <td>3.058191</td>\n",
       "    </tr>\n",
       "    <tr>\n",
       "      <th>RDSE</th>\n",
       "      <td>6</td>\n",
       "      <td>-0.000920</td>\n",
       "      <td>0.333260</td>\n",
       "      <td>1.813267</td>\n",
       "    </tr>\n",
       "    <tr>\n",
       "      <th>PS</th>\n",
       "      <td>7</td>\n",
       "      <td>-0.017474</td>\n",
       "      <td>1.620241</td>\n",
       "      <td>-0.324761</td>\n",
       "    </tr>\n",
       "    <tr>\n",
       "      <th>UC</th>\n",
       "      <td>8</td>\n",
       "      <td>0.026781</td>\n",
       "      <td>-0.628880</td>\n",
       "      <td>-0.295610</td>\n",
       "    </tr>\n",
       "  </tbody>\n",
       "</table>\n",
       "</div>"
      ],
      "text/plain": [
       "                  index      MCMC  Position 1  Position 2\n",
       "Groupe politique                                         \n",
       "PCF                   0 -0.021204    1.653898   -0.325824\n",
       "EELV                  1  0.015790    1.569818   -0.465005\n",
       "Les Indépendants      2  0.002146   -0.361513    1.363658\n",
       "LR                    3  0.015454   -0.750550   -0.534293\n",
       "NI                    4  0.009717    0.486188   -0.068473\n",
       "LREM                  5  0.002397   -0.141147    3.058191\n",
       "RDSE                  6 -0.000920    0.333260    1.813267\n",
       "PS                    7 -0.017474    1.620241   -0.324761\n",
       "UC                    8  0.026781   -0.628880   -0.295610"
      ]
     },
     "execution_count": 45,
     "metadata": {},
     "output_type": "execute_result"
    }
   ],
   "source": [
    "# Passage des index en colonne\n",
    "df_ACPvsMCMC_mean = df_ACPvsMCMC_mean.reset_index()\n",
    "\n",
    "# Changement des valeurs dans la colonne index conformément à la correspondance spécifiée\n",
    "df_ACPvsMCMC_mean['Groupe politique'] = df_ACPvsMCMC_mean['Groupe politique'].replace({'GEST': 'EELV',\n",
    "                                                                'CRCE': 'PCF',\n",
    "                                                                'Les Républicains': 'LR',\n",
    "                                                                'RDPI': 'LREM',\n",
    "                                                                'SER': 'PS'})\n",
    "\n",
    "# Passage de la colonne modifiée en nouvel index\n",
    "df_ACPvsMCMC_mean = df_ACPvsMCMC_mean.set_index('Groupe politique')\n",
    "df_ACPvsMCMC_mean"
   ]
  },
  {
   "cell_type": "code",
   "execution_count": 46,
   "id": "0d1af628",
   "metadata": {},
   "outputs": [
    {
     "data": {
      "text/html": [
       "<div>\n",
       "<style scoped>\n",
       "    .dataframe tbody tr th:only-of-type {\n",
       "        vertical-align: middle;\n",
       "    }\n",
       "\n",
       "    .dataframe tbody tr th {\n",
       "        vertical-align: top;\n",
       "    }\n",
       "\n",
       "    .dataframe thead th {\n",
       "        text-align: right;\n",
       "    }\n",
       "</style>\n",
       "<table border=\"1\" class=\"dataframe\">\n",
       "  <thead>\n",
       "    <tr style=\"text-align: right;\">\n",
       "      <th></th>\n",
       "      <th>MCMC</th>\n",
       "      <th>Position 1</th>\n",
       "      <th>Position 2</th>\n",
       "    </tr>\n",
       "    <tr>\n",
       "      <th>Groupe politique</th>\n",
       "      <th></th>\n",
       "      <th></th>\n",
       "      <th></th>\n",
       "    </tr>\n",
       "  </thead>\n",
       "  <tbody>\n",
       "    <tr>\n",
       "      <th>PCF</th>\n",
       "      <td>-0.021204</td>\n",
       "      <td>1.653898</td>\n",
       "      <td>-0.325824</td>\n",
       "    </tr>\n",
       "    <tr>\n",
       "      <th>EELV</th>\n",
       "      <td>0.015790</td>\n",
       "      <td>1.569818</td>\n",
       "      <td>-0.465005</td>\n",
       "    </tr>\n",
       "    <tr>\n",
       "      <th>LR</th>\n",
       "      <td>0.015454</td>\n",
       "      <td>-0.750550</td>\n",
       "      <td>-0.534293</td>\n",
       "    </tr>\n",
       "    <tr>\n",
       "      <th>LREM</th>\n",
       "      <td>0.002397</td>\n",
       "      <td>-0.141147</td>\n",
       "      <td>3.058191</td>\n",
       "    </tr>\n",
       "    <tr>\n",
       "      <th>PS</th>\n",
       "      <td>-0.017474</td>\n",
       "      <td>1.620241</td>\n",
       "      <td>-0.324761</td>\n",
       "    </tr>\n",
       "  </tbody>\n",
       "</table>\n",
       "</div>"
      ],
      "text/plain": [
       "                      MCMC  Position 1  Position 2\n",
       "Groupe politique                                  \n",
       "PCF              -0.021204    1.653898   -0.325824\n",
       "EELV              0.015790    1.569818   -0.465005\n",
       "LR                0.015454   -0.750550   -0.534293\n",
       "LREM              0.002397   -0.141147    3.058191\n",
       "PS               -0.017474    1.620241   -0.324761"
      ]
     },
     "execution_count": 46,
     "metadata": {},
     "output_type": "execute_result"
    }
   ],
   "source": [
    "df_ACPvsMCMC_mean = df_ACPvsMCMC_mean.drop([\"index\"], axis=1)\n",
    "df_ACPvsMCMC_mean = df_ACPvsMCMC_mean.drop([\"Les Indépendants\", \"NI\", \"RDSE\", \"UC\"], axis=0)\n",
    "df_ACPvsMCMC_mean\n"
   ]
  },
  {
   "cell_type": "code",
   "execution_count": 48,
   "id": "4307a029",
   "metadata": {},
   "outputs": [
    {
     "data": {
      "text/html": [
       "<div>\n",
       "<style scoped>\n",
       "    .dataframe tbody tr th:only-of-type {\n",
       "        vertical-align: middle;\n",
       "    }\n",
       "\n",
       "    .dataframe tbody tr th {\n",
       "        vertical-align: top;\n",
       "    }\n",
       "\n",
       "    .dataframe thead th {\n",
       "        text-align: right;\n",
       "    }\n",
       "</style>\n",
       "<table border=\"1\" class=\"dataframe\">\n",
       "  <thead>\n",
       "    <tr style=\"text-align: right;\">\n",
       "      <th></th>\n",
       "      <th>MCMC</th>\n",
       "      <th>Position 1</th>\n",
       "      <th>Position 2</th>\n",
       "      <th>eu_position</th>\n",
       "      <th>eu_position_sd</th>\n",
       "      <th>eu_salience</th>\n",
       "      <th>eu_dissent</th>\n",
       "      <th>eu_blur</th>\n",
       "      <th>eu_cohesion</th>\n",
       "      <th>eu_foreign</th>\n",
       "      <th>...</th>\n",
       "      <th>nationalism</th>\n",
       "      <th>urban_rural</th>\n",
       "      <th>protectionism</th>\n",
       "      <th>regions</th>\n",
       "      <th>russian_interference</th>\n",
       "      <th>anti_islam_rhetoric</th>\n",
       "      <th>people_vs_elite</th>\n",
       "      <th>antielite_salience</th>\n",
       "      <th>corrupt_salience</th>\n",
       "      <th>members_vs_leadership</th>\n",
       "    </tr>\n",
       "  </thead>\n",
       "  <tbody>\n",
       "    <tr>\n",
       "      <th>PCF</th>\n",
       "      <td>-0.021204</td>\n",
       "      <td>1.653898</td>\n",
       "      <td>-0.325824</td>\n",
       "      <td>3.000000</td>\n",
       "      <td>1.069045</td>\n",
       "      <td>4.625000</td>\n",
       "      <td>3.666667</td>\n",
       "      <td>4.00</td>\n",
       "      <td>4.800000</td>\n",
       "      <td>2.800000</td>\n",
       "      <td>...</td>\n",
       "      <td>2.857143</td>\n",
       "      <td>1.750000</td>\n",
       "      <td>7.625000</td>\n",
       "      <td>4.833334</td>\n",
       "      <td>1.500000</td>\n",
       "      <td>2.000000</td>\n",
       "      <td>4.125000</td>\n",
       "      <td>6.857143</td>\n",
       "      <td>2.857143</td>\n",
       "      <td>5.000000</td>\n",
       "    </tr>\n",
       "    <tr>\n",
       "      <th>EELV</th>\n",
       "      <td>0.015790</td>\n",
       "      <td>1.569818</td>\n",
       "      <td>-0.465005</td>\n",
       "      <td>6.375000</td>\n",
       "      <td>0.744024</td>\n",
       "      <td>6.875000</td>\n",
       "      <td>3.666667</td>\n",
       "      <td>1.75</td>\n",
       "      <td>6.000000</td>\n",
       "      <td>4.833334</td>\n",
       "      <td>...</td>\n",
       "      <td>1.250000</td>\n",
       "      <td>3.833333</td>\n",
       "      <td>5.142857</td>\n",
       "      <td>2.666667</td>\n",
       "      <td>3.166667</td>\n",
       "      <td>1.571428</td>\n",
       "      <td>5.750000</td>\n",
       "      <td>4.285714</td>\n",
       "      <td>4.142857</td>\n",
       "      <td>3.500000</td>\n",
       "    </tr>\n",
       "    <tr>\n",
       "      <th>LR</th>\n",
       "      <td>0.015454</td>\n",
       "      <td>-0.750550</td>\n",
       "      <td>-0.534293</td>\n",
       "      <td>5.500000</td>\n",
       "      <td>0.925820</td>\n",
       "      <td>6.000000</td>\n",
       "      <td>6.666666</td>\n",
       "      <td>4.00</td>\n",
       "      <td>5.400000</td>\n",
       "      <td>2.500000</td>\n",
       "      <td>...</td>\n",
       "      <td>7.000000</td>\n",
       "      <td>5.800000</td>\n",
       "      <td>3.857143</td>\n",
       "      <td>5.000000</td>\n",
       "      <td>2.666667</td>\n",
       "      <td>6.500000</td>\n",
       "      <td>2.285714</td>\n",
       "      <td>3.714286</td>\n",
       "      <td>3.000000</td>\n",
       "      <td>7.375000</td>\n",
       "    </tr>\n",
       "    <tr>\n",
       "      <th>LREM</th>\n",
       "      <td>0.002397</td>\n",
       "      <td>-0.141147</td>\n",
       "      <td>3.058191</td>\n",
       "      <td>6.833334</td>\n",
       "      <td>0.408248</td>\n",
       "      <td>8.833333</td>\n",
       "      <td>3.000000</td>\n",
       "      <td>1.00</td>\n",
       "      <td>6.666666</td>\n",
       "      <td>4.200000</td>\n",
       "      <td>...</td>\n",
       "      <td>4.000000</td>\n",
       "      <td>2.500000</td>\n",
       "      <td>2.833333</td>\n",
       "      <td>4.750000</td>\n",
       "      <td>4.750000</td>\n",
       "      <td>3.200000</td>\n",
       "      <td>3.333333</td>\n",
       "      <td>5.000000</td>\n",
       "      <td>2.833333</td>\n",
       "      <td>9.333333</td>\n",
       "    </tr>\n",
       "    <tr>\n",
       "      <th>PS</th>\n",
       "      <td>-0.017474</td>\n",
       "      <td>1.620241</td>\n",
       "      <td>-0.324761</td>\n",
       "      <td>6.125000</td>\n",
       "      <td>0.640870</td>\n",
       "      <td>6.375000</td>\n",
       "      <td>5.333334</td>\n",
       "      <td>4.25</td>\n",
       "      <td>6.200000</td>\n",
       "      <td>4.500000</td>\n",
       "      <td>...</td>\n",
       "      <td>2.750000</td>\n",
       "      <td>2.600000</td>\n",
       "      <td>4.714286</td>\n",
       "      <td>3.500000</td>\n",
       "      <td>3.333333</td>\n",
       "      <td>2.285714</td>\n",
       "      <td>4.125000</td>\n",
       "      <td>3.857143</td>\n",
       "      <td>3.285714</td>\n",
       "      <td>5.250000</td>\n",
       "    </tr>\n",
       "  </tbody>\n",
       "</table>\n",
       "<p>5 rows × 51 columns</p>\n",
       "</div>"
      ],
      "text/plain": [
       "          MCMC  Position 1  Position 2  eu_position  eu_position_sd  \\\n",
       "PCF  -0.021204    1.653898   -0.325824     3.000000        1.069045   \n",
       "EELV  0.015790    1.569818   -0.465005     6.375000        0.744024   \n",
       "LR    0.015454   -0.750550   -0.534293     5.500000        0.925820   \n",
       "LREM  0.002397   -0.141147    3.058191     6.833334        0.408248   \n",
       "PS   -0.017474    1.620241   -0.324761     6.125000        0.640870   \n",
       "\n",
       "      eu_salience  eu_dissent  eu_blur  eu_cohesion  eu_foreign  ...  \\\n",
       "PCF      4.625000    3.666667     4.00     4.800000    2.800000  ...   \n",
       "EELV     6.875000    3.666667     1.75     6.000000    4.833334  ...   \n",
       "LR       6.000000    6.666666     4.00     5.400000    2.500000  ...   \n",
       "LREM     8.833333    3.000000     1.00     6.666666    4.200000  ...   \n",
       "PS       6.375000    5.333334     4.25     6.200000    4.500000  ...   \n",
       "\n",
       "      nationalism  urban_rural  protectionism   regions  russian_interference  \\\n",
       "PCF      2.857143     1.750000       7.625000  4.833334              1.500000   \n",
       "EELV     1.250000     3.833333       5.142857  2.666667              3.166667   \n",
       "LR       7.000000     5.800000       3.857143  5.000000              2.666667   \n",
       "LREM     4.000000     2.500000       2.833333  4.750000              4.750000   \n",
       "PS       2.750000     2.600000       4.714286  3.500000              3.333333   \n",
       "\n",
       "      anti_islam_rhetoric  people_vs_elite  antielite_salience  \\\n",
       "PCF              2.000000         4.125000            6.857143   \n",
       "EELV             1.571428         5.750000            4.285714   \n",
       "LR               6.500000         2.285714            3.714286   \n",
       "LREM             3.200000         3.333333            5.000000   \n",
       "PS               2.285714         4.125000            3.857143   \n",
       "\n",
       "      corrupt_salience  members_vs_leadership  \n",
       "PCF           2.857143               5.000000  \n",
       "EELV          4.142857               3.500000  \n",
       "LR            3.000000               7.375000  \n",
       "LREM          2.833333               9.333333  \n",
       "PS            3.285714               5.250000  \n",
       "\n",
       "[5 rows x 51 columns]"
      ]
     },
     "execution_count": 48,
     "metadata": {},
     "output_type": "execute_result"
    }
   ],
   "source": [
    "# Création du dataframe df_ACP_MCMC_CHES2019V3 en fusionnant les dataframes\n",
    "df_ACP_MCMC_CHES2019V3 = df_ACPvsMCMC_mean.merge(df_CHES2019V3_fr, left_index=True, right_index=True)\n",
    "\n",
    "# Suppression des colonnes 'eu_econ_require', 'eu_political_require', 'eu_googov_require' dont les valeurs des lignes sont NA\n",
    "df_ACP_MCMC_CHES2019V3 = df_ACP_MCMC_CHES2019V3.drop(['eu_econ_require', 'eu_political_require', 'eu_googov_require'], axis=1)\n",
    "\n",
    "df_ACP_MCMC_CHES2019V3"
   ]
  },
  {
   "cell_type": "markdown",
   "id": "5bcd0b5e",
   "metadata": {},
   "source": [
    "Questions générales sur l'intégration européenne :\n",
    "\n",
    "1. EU_POSITION = orientation globale de la direction du parti envers l'intégration européenne en 2019.\n",
    "\n",
    "2. EU_POSITION_SD = écart-type de la position des experts sur l'orientation globale de la direction du parti envers l'intégration européenne en 2019.\n",
    "\n",
    "3. EU_SALIENCE = importance relative de l'intégration européenne dans la position publique du parti en 2019.\n",
    "\n",
    "4. EU_DISSENT = degré de dissension sur l'intégration européenne en 2019.\n",
    "\n",
    "5. EU_BLUR = degré de confusion de la position du parti sur l'intégration européenne en 2019.\n",
    "\n",
    "Questions spécifiques sur les politiques de l'UE :\n",
    "\n",
    "6. EU_COHESION = position de la direction du parti en 2019 sur la cohésion de l'UE ou la politique régionale.\n",
    "\n",
    "7. EU_FOREIGN = position de la direction du parti en 2019 sur la politique étrangère et de sécurité de l'UE.\n",
    "\n",
    "8. EU_INTMARK = position de la direction du parti en 2019 sur le marché intérieur de l'UE.\n",
    "\n",
    "9. EU_BUDGETS = position de la direction du parti en 2019 sur l'autorité de l'UE en matière de politique économique et budgétaire.\n",
    "\n",
    "10. EU_ASYLUM = position de la direction du parti en 2019 sur l'autorité de l'UE en matière de politique d'asile.\n",
    "\n",
    "Questions idéologiques :\n",
    "\n",
    "11. LRGEN = position générale du parti en 2019 en termes d'orientation idéologique.\n",
    "\n",
    "12. LRECON = position du parti en 2019 en termes d'orientation idéologique sur les questions économiques.\n",
    "\n",
    "13. LRECON_SD = écart-type de la position des experts sur la position idéologique du parti en 2019 sur les questions économiques.\n",
    "\n",
    "14. LRECON_SALIENCE = importance relative des questions économiques dans la position publique du parti en 2019.\n",
    "\n",
    "15. LRECON_DISSENT = degré de dissension sur les questions économiques en 2019.\n",
    "\n",
    "16. LRECON_BLUR = degré de confusion de la position du parti sur les questions économiques en 2019.\n",
    "\n",
    "17. GALTAN = position du parti en 2019 en termes de ses opinions sur les valeurs sociales et culturelles.\n",
    "\n",
    "18. GALTAN_SD = écart-type de la position des experts sur les opinions du parti en 2019 sur les libertés et droits démocratiques.\n",
    "\n",
    "19. GALTAN_SALIENCE = importance relative des questions libertariennes/traditionnelles dans la position publique du parti en 2019.\n",
    "\n",
    "20. GALTAN_DISSENT = degré de dissension sur les questions libertariennes/traditionnelles en 2019.\n",
    "\n",
    "21. GALTAN_BLUR = degré de confusion de la position du parti sur les questions libertariennes/traditionnelles en 2019.\n",
    "\n",
    "Dimensions politiques :\n",
    "\n",
    "22. IMMIGRATE_POLICY = position sur la politique d'immigration.\n",
    "\n",
    "23. IMMIGRATE_SALIENCE = importance relative de la politique d'immigration dans la position publique du parti en 2019.\n",
    "\n",
    "24. IMMIGRATE_DISSENT = degré de dissension sur la politique d'immigration en 2019.\n",
    "\n",
    "25. MULTICULTURALISM = position sur l'intégr\n",
    "\n",
    "ation des immigrants et demandeurs d'asile (multiculturalisme vs assimilation).\n",
    "\n",
    "26. MULTICULT_SALIENCE = importance relative des questions liées aux immigrants et demandeurs d'asile dans la position publique du parti en 2019.\n",
    "\n",
    "27. MULTICULT_DISSENT = degré de dissension sur les questions liées aux immigrants et demandeurs d'asile en 2019.\n",
    "\n",
    "28. REDISTRIBUTION = position sur la redistribution des richesses des riches vers les pauvres.\n",
    "\n",
    "29. REDIST_SALIENCE = importance relative de la redistribution dans la position publique du parti en 2019.\n",
    "\n",
    "30. ENVIRONMENT = position vis-à-vis de la durabilité environnementale.\n",
    "\n",
    "31. ENVIRO_SALIENCE = importance relative de la durabilité environnementale dans la position publique du parti en 2019.\n",
    "\n",
    "32. SPENDVTAX = position sur l'amélioration des services publics par rapport à la réduction des impôts en 2019.\n",
    "\n",
    "33. DEREGULATION = position sur la déréglementation des marchés.\n",
    "\n",
    "34. ECON_INTERVEN = position sur l'intervention de l'État dans l'économie.\n",
    "\n",
    "35. CIVLIB_LAWORDER = position sur les libertés civiles par rapport à la loi et l'ordre.\n",
    "\n",
    "36. SOCIALLIFESTYLE = position sur le mode de vie social (par exemple, droits des homosexuels, égalité des sexes).\n",
    "\n",
    "37. RELIGIOUS_PRINCIPLES = position sur le rôle des principes religieux en politique.\n",
    "\n",
    "38. ETHNIC_MINORITIES = position vis-à-vis des droits des minorités ethniques.\n",
    "\n",
    "39. NATIONALISM = position sur le cosmopolitisme vs le nationalisme.\n",
    "\n",
    "40. URBAN_RURAL = position sur les intérêts urbains/ruraux.\n",
    "\n",
    "41. PROTECTIONISM = position sur la libéralisation/protectionnisme des échanges commerciaux.\n",
    "\n",
    "42. REGIONS = position sur la décentralisation politique aux régions/localités.\n",
    "\n",
    "43. RUSSIAN_INTERFERENCE = importance de l'ingérence russe dans les affaires intérieures pour la direction du parti.\n",
    "\n",
    "44. ANTI_ISLAM_RHETORIC = importance de la rhétorique anti-islam pour la direction du parti.\n",
    "\n",
    "Caractéristiques du parti :\n",
    "\n",
    "45. PEOPLE_VS_ELITE = position sur le peuple par rapport aux représentants élus.\n",
    "\n",
    "46. ANTIELITE_SALIENCE = importance de la rhétorique anti-establishment et anti-élite.\n",
    "\n",
    "47. CORRUPT_SALIENCE = importance de la réduction de la corruption politique.\n",
    "\n",
    "48. MEMBERS_VS_LEADERSHIP = position sur la direction du parti par rapport aux membres/activistes dans les choix de politique du parti.\n",
    "\n",
    "Questions sur l'UE pour la Turquie :\n",
    "\n",
    "49. EU_ECON_REQUIRE = position sur la satisfaction des exigences économiques de l'adhésion à l'UE.\n",
    "\n",
    "50. EU_POLITICAL_REQUIRE = position sur la satisfaction des exigences politiques de l'adhésion à l'UE.\n",
    "\n",
    "51. EU_GOOGOV_REQUIRE = position sur la satisfaction des exigences de bonne gouvernance de l'adhésion à l'UE."
   ]
  },
  {
   "cell_type": "code",
   "execution_count": 49,
   "id": "eeb19556",
   "metadata": {},
   "outputs": [
    {
     "data": {
      "image/png": "[encoded data removed]",
      "text/plain": [
       "<Figure size 1000x800 with 1 Axes>"
      ]
     },
     "metadata": {},
     "output_type": "display_data"
    }
   ],
   "source": [
    "# Sélection des colonnes pour la corrélation\n",
    "columns_for_correlation = ['eu_position', 'eu_position_sd', 'eu_salience', 'eu_dissent', 'eu_blur', 'eu_cohesion',\n",
    "                           'eu_foreign', 'eu_intmark', 'eu_budgets', 'eu_asylum', 'lrgen', 'lrecon', 'lrecon_sd',\n",
    "                           'lrecon_salience', 'lrecon_dissent', 'lrecon_blur', 'galtan', 'galtan_sd',\n",
    "                           'galtan_salience', 'galtan_dissent', 'galtan_blur', 'immigrate_policy',\n",
    "                           'immigrate_salience', 'immigrate_dissent', 'multiculturalism', 'multicult_salience',\n",
    "                           'multicult_dissent', 'redistribution', 'redist_salience', 'environment',\n",
    "                           'enviro_salience', 'spendvtax', 'deregulation', 'econ_interven', 'civlib_laworder',\n",
    "                           'sociallifestyle', 'religious_principles', 'ethnic_minorities', 'nationalism',\n",
    "                           'urban_rural', 'protectionism', 'regions', 'russian_interference', 'anti_islam_rhetoric',\n",
    "                           'people_vs_elite', 'antielite_salience', 'corrupt_salience', 'members_vs_leadership']\n",
    "\n",
    "# Nettoyage des données en supprimant les valeurs problématiques\n",
    "df_cleaned = df_ACP_MCMC_CHES2019V3.dropna()  # Supprimer les lignes avec des valeurs manquantes\n",
    "df_cleaned = df_cleaned.replace([np.inf, -np.inf], np.nan).dropna()  # Supprimer les valeurs infinies\n",
    "\n",
    "# Calcul de la corrélation de Pearson\n",
    "correlation_MCMC = df_cleaned[columns_for_correlation].corrwith(df_cleaned['MCMC'], method='pearson')\n",
    "\n",
    "# Tri des valeurs de corrélation de la plus faible à la plus grande\n",
    "correlation_sorted = correlation_MCMC.sort_values()\n",
    "\n",
    "# Création du graphique\n",
    "plt.figure(figsize=(10, 8))\n",
    "plt.barh(correlation_sorted.index, correlation_sorted.values)\n",
    "plt.xlabel('Corrélation de Pearson')\n",
    "plt.ylabel('Catégorie')\n",
    "plt.title('Corrélation de Pearson entre les catégories et MCMC')\n",
    "\n",
    "# Marquer les niveaux de confiance\n",
    "for category, corr in correlation_sorted.items():\n",
    "    p_value = pearsonr(df_cleaned[category], df_cleaned['MCMC'])[1]\n",
    "    if p_value < 0.01:\n",
    "        plt.annotate('**'.format(p_value), (corr, category), color='red')\n",
    "    elif p_value < 0.05:\n",
    "        plt.annotate('*'.format(p_value), (corr, category), color='blue')\n",
    "\n",
    "# Affichage du graphique\n",
    "plt.show()\n",
    "\n"
   ]
  },
  {
   "cell_type": "code",
   "execution_count": 50,
   "id": "d1e41253",
   "metadata": {},
   "outputs": [
    {
     "data": {
      "image/png": "[encoded data removed]",
      "text/plain": [
       "<Figure size 1000x800 with 1 Axes>"
      ]
     },
     "metadata": {},
     "output_type": "display_data"
    }
   ],
   "source": [
    "# Nettoyage des données en supprimant les valeurs problématiques\n",
    "df_cleaned = df_ACP_MCMC_CHES2019V3.dropna()  # Supprimer les lignes avec des valeurs manquantes\n",
    "df_cleaned = df_cleaned.replace([np.inf, -np.inf], np.nan).dropna()  # Supprimer les valeurs infinies\n",
    "\n",
    "# Calcul de la corrélation de Pearson\n",
    "correlation_P1 = df_cleaned[columns_for_correlation].corrwith(df_cleaned['Position 1'], method='pearson')\n",
    "\n",
    "# Tri des valeurs de corrélation de la plus faible à la plus grande\n",
    "correlation_sorted = correlation_P1.sort_values()\n",
    "\n",
    "# Création du graphique\n",
    "plt.figure(figsize=(10, 8))\n",
    "plt.barh(correlation_sorted.index, correlation_sorted.values)\n",
    "plt.xlabel('Corrélation de Pearson')\n",
    "plt.ylabel('Catégorie')\n",
    "plt.title('Corrélation de Pearson entre les catégories et P1')\n",
    "\n",
    "# Marquer les niveaux de confiance\n",
    "for category, corr in correlation_sorted.items():\n",
    "    p_value = pearsonr(df_cleaned[category], df_cleaned['Position 1'])[1]\n",
    "    if p_value < 0.01:\n",
    "        plt.annotate('**'.format(p_value), (corr, category), color='red')\n",
    "    elif p_value < 0.05:\n",
    "        plt.annotate('*'.format(p_value), (corr, category), color='blue')\n",
    "\n",
    "# Affichage du graphique\n",
    "plt.show()\n",
    "\n"
   ]
  },
  {
   "cell_type": "code",
   "execution_count": 51,
   "id": "2f2b3fd3",
   "metadata": {},
   "outputs": [
    {
     "data": {
      "image/png": "[encoded data removed]",
      "text/plain": [
       "<Figure size 1000x800 with 1 Axes>"
      ]
     },
     "metadata": {},
     "output_type": "display_data"
    }
   ],
   "source": [
    "# Nettoyage des données en supprimant les valeurs problématiques\n",
    "df_cleaned = df_ACP_MCMC_CHES2019V3.dropna()  # Supprimer les lignes avec des valeurs manquantes\n",
    "df_cleaned = df_cleaned.replace([np.inf, -np.inf], np.nan).dropna()  # Supprimer les valeurs infinies\n",
    "\n",
    "# Calcul de la corrélation de Pearson\n",
    "correlation_P2 = df_cleaned[columns_for_correlation].corrwith(df_cleaned['Position 2'], method='pearson')\n",
    "\n",
    "# Tri des valeurs de corrélation de la plus faible à la plus grande\n",
    "correlation_sorted = correlation_P2.sort_values()\n",
    "\n",
    "# Création du graphique\n",
    "plt.figure(figsize=(10, 8))\n",
    "plt.barh(correlation_sorted.index, correlation_sorted.values)\n",
    "plt.xlabel('Corrélation de Pearson')\n",
    "plt.ylabel('Catégorie')\n",
    "plt.title('Corrélation de Pearson entre les catégories et P2')\n",
    "\n",
    "# Marquer les niveaux de confiance\n",
    "for category, corr in correlation_sorted.items():\n",
    "    p_value = pearsonr(df_cleaned[category], df_cleaned['Position 2'])[1]\n",
    "    if p_value < 0.01:\n",
    "        plt.annotate('**'.format(p_value), (corr, category), color='red')\n",
    "    elif p_value < 0.05:\n",
    "        plt.annotate('*'.format(p_value), (corr, category), color='blue')\n",
    "\n",
    "# Affichage du graphique\n",
    "plt.show()\n",
    "\n"
   ]
  },
  {
   "cell_type": "code",
   "execution_count": null,
   "id": "571ebf6c",
   "metadata": {},
   "outputs": [],
   "source": []
  }
 ],
 "metadata": {
  "kernelspec": {
   "display_name": "Python 3 (ipykernel)",
   "language": "python",
   "name": "python3"
  },
  "language_info": {
   "codemirror_mode": {
    "name": "ipython",
    "version": 3
   },
   "file_extension": ".py",
   "mimetype": "text/x-python",
   "name": "python",
   "nbconvert_exporter": "python",
   "pygments_lexer": "ipython3",
   "version": "3.10.8"
  }
 },
 "nbformat": 4,
 "nbformat_minor": 5
}
