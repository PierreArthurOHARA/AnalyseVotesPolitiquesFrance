{
 "cells": [
  {
   "cell_type": "markdown",
   "id": "97db87f5",
   "metadata": {},
   "source": [
    "# Récupération des votes des député.e.s de l'Assemblée nationale"
   ]
  },
  {
   "cell_type": "markdown",
   "id": "0d9d03b6",
   "metadata": {},
   "source": [
    "Afin d'analyser les votes des député.e.s siégants à l'Assemblée nationale, nous commençons par récupérer un fichier csv contenant l'ensemble des scrutins de la XVIème législature en passant par le lien suivant : https://data.assemblee-nationale.fr/travaux-parlementaires/votes.\n",
    "\n",
    "Nous utilisons également dans le code suivant pour obtenir la liste des député.e.s en exercice disponible via le lien suivant : https://data.assemblee-nationale.fr/acteurs/deputes-en-exercice.\n",
    "\n",
    "Cela nous a permis de récupérer 1351 scrutins le 31 mars 2023."
   ]
  },
  {
   "cell_type": "markdown",
   "id": "d2357a7e",
   "metadata": {},
   "source": [
    "## 1. Liste des bibliothèques utilisées"
   ]
  },
  {
   "cell_type": "code",
   "execution_count": 45,
   "id": "d392f7b4",
   "metadata": {},
   "outputs": [],
   "source": [
    "import json\n",
    "import pandas as pd\n",
    "import os"
   ]
  },
  {
   "cell_type": "markdown",
   "id": "a4f963df",
   "metadata": {},
   "source": [
    "## 2. Création d'un path finder et extraction des votes des député.e.s aux différents scrutins"
   ]
  },
  {
   "cell_type": "markdown",
   "id": "8bfdb870",
   "metadata": {},
   "source": [
    "Il y a quatre votes possibles pour chaque scrutin : \"non Votant\", \"pour\", \"contre, \"abstention\"."
   ]
  },
  {
   "cell_type": "code",
   "execution_count": 1,
   "id": "c49f1879",
   "metadata": {},
   "outputs": [],
   "source": [
    "votes_possibles = [\"nonVotants\", \"pours\", \"contres\", \"abstentions\"]"
   ]
  },
  {
   "cell_type": "markdown",
   "id": "bb88f65c",
   "metadata": {},
   "source": [
    "Le fichier que nous avons obtenu depuis le site de l'Assemblée nationale est de la forme suivante : un dossier contenant un fichier json pour chaque scutin. Les fichiers jsons n'ont pas toujours exactement la même structure. Il faut donc tout d'abords créer une fonction de recherche capable d'intéroger tout fichier json simple 'data' pour en extraire le chemin d'accès vers une valeur donnée 'value'. Ainsi, ces deux fonctions sont utilisées conjointement pour trouver un chemin d'accès dans un dictionnaire `data` menant à une valeur spécifique, et ensuite extraire une valeur spécifique de ce chemin d'accès en fonction de certains critères définis dans `get_path_value`."
   ]
  },
  {
   "cell_type": "code",
   "execution_count": 46,
   "id": "66ea69b5",
   "metadata": {},
   "outputs": [],
   "source": [
    "def find_path(data, value, path=None):\n",
    "    \"\"\"\n",
    "    Parcourir récursivement le dictionnaire 'data' et retourner le chemin d'accès de la première occurrence de 'value'.\n",
    "    \"\"\"\n",
    "    if path is None:\n",
    "        path = []\n",
    "    if isinstance(data, dict):\n",
    "        for k, v in data.items():\n",
    "            new_path = path + [k]\n",
    "            if v == value:\n",
    "                return new_path\n",
    "            elif isinstance(v, dict) or isinstance(v, list):\n",
    "                result = find_path(v, value, new_path)\n",
    "                if result is not None:\n",
    "                    return result\n",
    "    elif isinstance(data, list):\n",
    "        for i, v in enumerate(data):\n",
    "            new_path = path + [i]\n",
    "            if v == value:\n",
    "                return new_path\n",
    "            elif isinstance(v, dict) or isinstance(v, list):\n",
    "                result = find_path(v, value, new_path)\n",
    "                if result is not None:\n",
    "                    return result\n",
    "    return None\n",
    "\n",
    "def get_path_value(path):\n",
    "    if path is not None:\n",
    "        for element in path:\n",
    "            if element in votes_possibles:\n",
    "                return element\n",
    "    return None"
   ]
  },
  {
   "cell_type": "markdown",
   "id": "061e8ea2",
   "metadata": {},
   "source": [
    "## Application des fonctions find_path et get_path_value à l'ensemble des scrutins"
   ]
  },
  {
   "cell_type": "markdown",
   "id": "801e4c36",
   "metadata": {},
   "source": [
    "Après avoir créé nos fonctions de recherche, nous pouvons les appliquer à notre dossier issu du site de l'Assemblée nationale. Pour cela, nous commençons par créer un dataframe df à partir de la liste des députés et effectuons un peu de nettoyage de la base. Après, nous créons une variable répertoire où nous mettons le chemin vers le dossier contenant les scrutins."
   ]
  },
  {
   "cell_type": "code",
   "execution_count": null,
   "id": "27b2c3c7",
   "metadata": {},
   "outputs": [],
   "source": [
    "# importer la liste des députés en exercice\n",
    "df = pd.read_csv(\"data\\\\20230430_Data_Depute_Liste.csv\", sep=\";\", encoding='ISO-8859-1')\n",
    "df['identifiant'] = df['identifiant'].apply(lambda x: 'PA' + str(x))\n",
    "\n",
    "# Chemin d'accès au répertoire contenant les fichiers JSON\n",
    "repertoire = 'data\\\\20230331_Data_VotesDeputesJson'\n",
    "\n",
    "# Liste des fichiers JSON dans le répertoire\n",
    "fichiers = os.listdir(repertoire)"
   ]
  },
  {
   "cell_type": "markdown",
   "id": "4c06f890",
   "metadata": {},
   "source": [
    "Ensuite et de façon itérative, nous analysons l'ensemble des fichiers du répertoire à la recherche de l'identifiant de chaque député pour obtenir via son path son vote lors de chaque scrutin."
   ]
  },
  {
   "cell_type": "code",
   "execution_count": null,
   "id": "36ee15d0",
   "metadata": {},
   "outputs": [],
   "source": [
    "i=0\n",
    "\n",
    "# Itération sur les fichiers JSON\n",
    "for nom_du_fichier in fichiers:\n",
    "    # Chemin d'accès complet au fichier JSON\n",
    "    chemin_fichier = os.path.join(repertoire, nom_du_fichier)\n",
    "\n",
    "    # Chargement des données JSON\n",
    "    with open(chemin_fichier) as f:\n",
    "        data = json.load(f)\n",
    "    \n",
    "    # Extrait le nom du fichier à partir du chemin\n",
    "    nom_scrutin = os.path.basename(nom_du_fichier)\n",
    "\n",
    "    # Supprime l'extension \".json\" du nom de fichier\n",
    "    scrutin = nom_scrutin.rstrip('.json')\n",
    "\n",
    "    # Créer une nouvelle colonne path initialisée à None\n",
    "    df[str(scrutin)] = None\n",
    "\n",
    "    # Appliquer la fonction get_path_value à chaque ligne du DataFrame\n",
    "    df[str(scrutin)] = df.apply(lambda row: get_path_value(find_path(data, row['identifiant'], path=None)), axis=1)\n",
    "    \n",
    "    i += 1\n",
    "    print(i)\n",
    "\n",
    "df\n"
   ]
  },
  {
   "cell_type": "code",
   "execution_count": 48,
   "id": "4b1dafc1",
   "metadata": {},
   "outputs": [],
   "source": [
    "df.to_csv('20230430_Data_Votes_Deputes.csv', index=False)"
   ]
  }
 ],
 "metadata": {
  "kernelspec": {
   "display_name": "Python 3 (ipykernel)",
   "language": "python",
   "name": "python3"
  },
  "language_info": {
   "codemirror_mode": {
    "name": "ipython",
    "version": 3
   },
   "file_extension": ".py",
   "mimetype": "text/x-python",
   "name": "python",
   "nbconvert_exporter": "python",
   "pygments_lexer": "ipython3",
   "version": "3.10.8"
  }
 },
 "nbformat": 4,
 "nbformat_minor": 5
}
